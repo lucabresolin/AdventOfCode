{
 "cells": [
  {
   "cell_type": "code",
   "execution_count": 6,
   "metadata": {},
   "outputs": [
    {
     "data": {
      "text/plain": [
       "{'hb': {'type': '%', 'targets': ['mj'], 'state': False},\n",
       " 'mx': {'type': '%', 'targets': ['mt', 'xz'], 'state': False},\n",
       " 'xh': {'type': '%', 'targets': ['qc'], 'state': False},\n",
       " 'tg': {'type': '%', 'targets': ['cq'], 'state': False},\n",
       " 'kp': {'type': '%', 'targets': ['xz', 'nj'], 'state': False},\n",
       " 'mj': {'type': '%', 'targets': ['jj', 'lv'], 'state': False},\n",
       " 'cq': {'type': '%', 'targets': ['jm'], 'state': False},\n",
       " 'mt': {'type': '%', 'targets': ['sj', 'xz'], 'state': False},\n",
       " 'jj': {'type': '&',\n",
       "  'targets': ['hb', 'lz', 'rk', 'xv', 'vj', 'vh', 'lv'],\n",
       "  'state': {'mj': 'low',\n",
       "   'qn': 'low',\n",
       "   'xr': 'low',\n",
       "   'gx': 'low',\n",
       "   'zk': 'low',\n",
       "   'qv': 'low',\n",
       "   'vj': 'low'}},\n",
       " 'rm': {'type': '%', 'targets': ['bz', 'xq'], 'state': False},\n",
       " 'hx': {'type': '%', 'targets': ['bz'], 'state': False},\n",
       " 'xv': {'type': '%', 'targets': ['lz'], 'state': False},\n",
       " 'xx': {'type': '%', 'targets': ['kp', 'xz'], 'state': False},\n",
       " 'pt': {'type': '%', 'targets': ['vx'], 'state': False},\n",
       " 'xz': {'type': '&',\n",
       "  'targets': ['bq', 'gr', 'sj', 'rv', 'zf'],\n",
       "  'state': {'mx': 'low',\n",
       "   'kp': 'low',\n",
       "   'mt': 'low',\n",
       "   'xx': 'low',\n",
       "   'xb': 'low',\n",
       "   'rr': 'low',\n",
       "   'vp': 'low',\n",
       "   'nj': 'low',\n",
       "   'gr': 'low'}},\n",
       " 'vx': {'type': '%', 'targets': ['gf', 'cv'], 'state': False},\n",
       " 'xb': {'type': '%', 'targets': ['xz', 'bq'], 'state': False},\n",
       " 'xk': {'type': '%', 'targets': ['gf', 'rd'], 'state': False},\n",
       " 'lv': {'type': '%', 'targets': ['zk'], 'state': False},\n",
       " 'rk': {'type': '&', 'targets': ['gh'], 'state': {'jj': 'low'}},\n",
       " 'kn': {'type': '%', 'targets': ['gf', 'tz'], 'state': False},\n",
       " 'gh': {'type': '&',\n",
       "  'targets': ['rx'],\n",
       "  'state': {'rk': 'low', 'cd': 'low', 'zf': 'low', 'qx': 'low'}},\n",
       " 'sj': {'type': '%', 'targets': ['vp'], 'state': False},\n",
       " 'jm': {'type': '%', 'targets': ['vm', 'bz'], 'state': False},\n",
       " 'rr': {'type': '%', 'targets': ['rv', 'xz'], 'state': False},\n",
       " 'tz': {'type': '%', 'targets': ['rz'], 'state': False},\n",
       " 'gg': {'type': '%', 'targets': ['kn'], 'state': False},\n",
       " 'cd': {'type': '&', 'targets': ['gh'], 'state': {'gf': 'low'}},\n",
       " 'qc': {'type': '%', 'targets': ['kh', 'bz'], 'state': False},\n",
       " 'kb': {'type': '%', 'targets': ['gf'], 'state': False},\n",
       " 'vp': {'type': '%', 'targets': ['xz', 'xx'], 'state': False},\n",
       " 'fb': {'type': '%', 'targets': ['bz', 'tg'], 'state': False},\n",
       " 'rd': {'type': '%', 'targets': ['cp'], 'state': False},\n",
       " 'qn': {'type': '%', 'targets': ['vh', 'jj'], 'state': False},\n",
       " 'xr': {'type': '%', 'targets': ['jj'], 'state': False},\n",
       " 'tp': {'type': '%', 'targets': ['rm', 'bz'], 'state': False},\n",
       " 'cp': {'type': '%', 'targets': ['gg'], 'state': False},\n",
       " 'bz': {'type': '&',\n",
       "  'targets': ['qx', 'cq', 'xh', 'fb', 'tg'],\n",
       "  'state': {'rm': 'low',\n",
       "   'hx': 'low',\n",
       "   'jm': 'low',\n",
       "   'qc': 'low',\n",
       "   'fb': 'low',\n",
       "   'tp': 'low',\n",
       "   'xq': 'low',\n",
       "   'kh': 'low',\n",
       "   'vm': 'low'}},\n",
       " 'qq': {'type': '%', 'targets': ['pt', 'gf'], 'state': False},\n",
       " 'xq': {'type': '%', 'targets': ['bz', 'hx'], 'state': False},\n",
       " 'gx': {'type': '%', 'targets': ['jj', 'qv'], 'state': False},\n",
       " 'bq': {'type': '%', 'targets': ['rr'], 'state': False},\n",
       " 'cv': {'type': '%', 'targets': ['gf', 'kb'], 'state': False},\n",
       " 'zk': {'type': '%', 'targets': ['jj', 'xv'], 'state': False},\n",
       " 'zf': {'type': '&', 'targets': ['gh'], 'state': {'xz': 'low'}},\n",
       " 'qx': {'type': '&', 'targets': ['gh'], 'state': {'bz': 'low'}},\n",
       " 'vh': {'type': '%', 'targets': ['gx'], 'state': False},\n",
       " 'qv': {'type': '%', 'targets': ['xr', 'jj'], 'state': False},\n",
       " 'lz': {'type': '%', 'targets': ['qn'], 'state': False},\n",
       " 'broadcaster': {'type': 'broadcaster',\n",
       "  'targets': ['fb', 'xk', 'gr', 'vj'],\n",
       "  'state': None},\n",
       " 'nj': {'type': '%', 'targets': ['xz'], 'state': False},\n",
       " 'gr': {'type': '%', 'targets': ['xz', 'xb'], 'state': False},\n",
       " 'kh': {'type': '%', 'targets': ['tp', 'bz'], 'state': False},\n",
       " 'vm': {'type': '%', 'targets': ['bz', 'xh'], 'state': False},\n",
       " 'rz': {'type': '%', 'targets': ['qq', 'gf'], 'state': False},\n",
       " 'gf': {'type': '&',\n",
       "  'targets': ['tz', 'cd', 'rd', 'xk', 'pt', 'cp', 'gg'],\n",
       "  'state': {'vx': 'low',\n",
       "   'xk': 'low',\n",
       "   'kn': 'low',\n",
       "   'kb': 'low',\n",
       "   'qq': 'low',\n",
       "   'cv': 'low',\n",
       "   'rz': 'low'}},\n",
       " 'rv': {'type': '%', 'targets': ['mx'], 'state': False},\n",
       " 'vj': {'type': '%', 'targets': ['hb', 'jj'], 'state': False}}"
      ]
     },
     "execution_count": 6,
     "metadata": {},
     "output_type": "execute_result"
    }
   ],
   "source": [
    "modules = {}\n",
    "def init_state(type):\n",
    "    if type == '%':\n",
    "        return False\n",
    "    elif type == '&':\n",
    "        return {}\n",
    "\n",
    "def get_inputs_for_mod(modu):\n",
    "    inputes = []\n",
    "    for current_modu in modules:\n",
    "        if modu in modules[current_modu]['targets']:\n",
    "            inputes.append(current_modu)\n",
    "    return inputes\n",
    "\n",
    "def init_states_for_conjuctor():\n",
    "    for current_modu in modules:\n",
    "        if modules[current_modu]['type'] == '&':\n",
    "            modules[current_modu]['state'] = {mod : 'low' for mod in get_inputs_for_mod(current_modu)}\n",
    "\n",
    "\n",
    "with open(\"input.txt\") as f:\n",
    "    for line in f.readlines():\n",
    "        name_type, targets = line.strip('\\n').split(\" -> \")\n",
    "        type = name_type[0] if name_type[0] in \"%&\" else 'broadcaster'\n",
    "        name = name_type[1:] if type in \"%&\" else 'broadcaster'\n",
    "        targets = targets.split(', ')\n",
    "        modules[name] = {\"type\" : type, \"targets\" : targets, \"state\" : init_state(type)}\n",
    "\n",
    "init_states_for_conjuctor()\n",
    "\n",
    "modules"
   ]
  },
  {
   "cell_type": "code",
   "execution_count": 7,
   "metadata": {},
   "outputs": [],
   "source": [
    "def get_next_pulse(curr_target, pulse_type, source):\n",
    "    target_info = modules[curr_target]\n",
    "    target_type = target_info['type']\n",
    "\n",
    "    if target_type == '%':\n",
    "        if pulse_type == 'low':\n",
    "            if target_info['state']:\n",
    "                target_info['state'] = False\n",
    "                return 'low'\n",
    "            else:\n",
    "                target_info['state'] = True\n",
    "                return 'high'\n",
    "        else:\n",
    "            return ''\n",
    "    elif target_type == '&':\n",
    "        target_info['state'][source] = pulse_type\n",
    "        if 'low' not in target_info['state'].values():\n",
    "            return 'low'\n",
    "        else:\n",
    "            return 'high'\n",
    "    else:\n",
    "        return pulse_type"
   ]
  },
  {
   "cell_type": "code",
   "execution_count": 8,
   "metadata": {},
   "outputs": [
    {
     "data": {
      "text/plain": [
       "('gh', {'rk': None, 'cd': None, 'zf': None, 'qx': None})"
      ]
     },
     "execution_count": 8,
     "metadata": {},
     "output_type": "execute_result"
    }
   ],
   "source": [
    "machine_feeder = [target for target, val in modules.items() if 'rx' in val['targets']][0]\n",
    "cycles = {target: None for target, val in modules.items() if machine_feeder in val['targets']}\n",
    "machine_feeder, cycles"
   ]
  },
  {
   "cell_type": "code",
   "execution_count": 9,
   "metadata": {},
   "outputs": [
    {
     "name": "stdout",
     "output_type": "stream",
     "text": [
      "{'rk': 3733, 'cd': 3793, 'zf': 3947, 'qx': 4057}\n"
     ]
    },
    {
     "data": {
      "text/plain": [
       "226732077152351"
      ]
     },
     "execution_count": 9,
     "metadata": {},
     "output_type": "execute_result"
    }
   ],
   "source": [
    "def getcycle():\n",
    "    for i in range(10000):\n",
    "        pulse_stack = [(\"low\",'broadcaster','button')]\n",
    "\n",
    "        while len(pulse_stack) > 0:\n",
    "            pulse_type, target, source = pulse_stack.pop(0)\n",
    "            #print(source, pulse_type, target)\n",
    "\n",
    "            if target == machine_feeder and pulse_type == 'high':\n",
    "                if cycles[source] is None:\n",
    "                    cycles[source] = i+1\n",
    "            \n",
    "            if all(val is not None for val in cycles.values()):\n",
    "                print(cycles)\n",
    "                from math import lcm\n",
    "                return lcm(*cycles.values())\n",
    "\n",
    "\n",
    "            if target in modules:\n",
    "                next_targets = modules[target]['targets']\n",
    "                next_pulse = get_next_pulse(target, pulse_type, source)\n",
    "                if next_pulse != '':\n",
    "                    for targ in next_targets:\n",
    "                        pulse_stack.append((next_pulse, targ, target))\n",
    "\n",
    "\n",
    "getcycle()"
   ]
  },
  {
   "cell_type": "code",
   "execution_count": 10,
   "metadata": {},
   "outputs": [
    {
     "data": {
      "text/plain": [
       "{'rk': 3733, 'cd': 3793, 'zf': 3947, 'qx': 4057}"
      ]
     },
     "execution_count": 10,
     "metadata": {},
     "output_type": "execute_result"
    }
   ],
   "source": [
    "cycles"
   ]
  }
 ],
 "metadata": {
  "kernelspec": {
   "display_name": "venv",
   "language": "python",
   "name": "python3"
  },
  "language_info": {
   "codemirror_mode": {
    "name": "ipython",
    "version": 3
   },
   "file_extension": ".py",
   "mimetype": "text/x-python",
   "name": "python",
   "nbconvert_exporter": "python",
   "pygments_lexer": "ipython3",
   "version": "3.12.0"
  }
 },
 "nbformat": 4,
 "nbformat_minor": 2
}
