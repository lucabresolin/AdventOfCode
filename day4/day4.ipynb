{
 "cells": [
  {
   "cell_type": "code",
   "execution_count": 4,
   "metadata": {},
   "outputs": [],
   "source": [
    "with open('input.txt', 'r') as f:\n",
    "    lines = [line.split(':')[1].replace('\\n','').replace('  ',' ') for line in f.readlines()]"
   ]
  },
  {
   "cell_type": "code",
   "execution_count": 5,
   "metadata": {},
   "outputs": [],
   "source": [
    "def get_winnings_got(line):\n",
    "    winning, current = line.split('|')\n",
    "    winning = set([int((win)) for win in winning.split(' ')if win != ''] )\n",
    "    current = set([int((cur)) for cur in current.split(' ')if cur != ''] )\n",
    "\n",
    "    n = len(winning.intersection(current))\n",
    "    if n==0:\n",
    "        return 0\n",
    "    return 2**(n-1)"
   ]
  },
  {
   "cell_type": "code",
   "execution_count": 7,
   "metadata": {},
   "outputs": [
    {
     "data": {
      "text/plain": [
       "0"
      ]
     },
     "execution_count": 7,
     "metadata": {},
     "output_type": "execute_result"
    }
   ],
   "source": [
    "get_winnings_got(lines[0])"
   ]
  },
  {
   "cell_type": "markdown",
   "metadata": {},
   "source": [
    "# part 2"
   ]
  },
  {
   "cell_type": "code",
   "execution_count": 13,
   "metadata": {},
   "outputs": [],
   "source": [
    "def get_numbor(line):\n",
    "    winning, current = line.split('|')\n",
    "    winning = set([int((win)) for win in winning.split(' ')if win != ''] )\n",
    "    current = set([int((cur)) for cur in current.split(' ')if cur != ''] )\n",
    "\n",
    "    n = len(winning.intersection(current))\n",
    "    if n==0:\n",
    "        return 0\n",
    "    return n"
   ]
  },
  {
   "cell_type": "code",
   "execution_count": 8,
   "metadata": {},
   "outputs": [
    {
     "ename": "NameError",
     "evalue": "name 'get_numbor' is not defined",
     "output_type": "error",
     "traceback": [
      "\u001b[0;31m---------------------------------------------------------------------------\u001b[0m",
      "\u001b[0;31mNameError\u001b[0m                                 Traceback (most recent call last)",
      "Cell \u001b[0;32mIn[8], line 1\u001b[0m\n\u001b[0;32m----> 1\u001b[0m blague \u001b[38;5;241m=\u001b[39m ([get_numbor(line) \u001b[38;5;28;01mfor\u001b[39;00m line \u001b[38;5;129;01min\u001b[39;00m lines])\n\u001b[1;32m      2\u001b[0m blague\n",
      "Cell \u001b[0;32mIn[8], line 1\u001b[0m, in \u001b[0;36m<listcomp>\u001b[0;34m(.0)\u001b[0m\n\u001b[0;32m----> 1\u001b[0m blague \u001b[38;5;241m=\u001b[39m ([get_numbor(line) \u001b[38;5;28;01mfor\u001b[39;00m line \u001b[38;5;129;01min\u001b[39;00m lines])\n\u001b[1;32m      2\u001b[0m blague\n",
      "\u001b[0;31mNameError\u001b[0m: name 'get_numbor' is not defined"
     ]
    }
   ],
   "source": [
    "blague = ([get_numbor(line) for line in lines])\n",
    "blague"
   ]
  },
  {
   "cell_type": "code",
   "execution_count": 15,
   "metadata": {},
   "outputs": [
    {
     "data": {
      "text/plain": [
       "14814534"
      ]
     },
     "execution_count": 15,
     "metadata": {},
     "output_type": "execute_result"
    }
   ],
   "source": [
    "burger = [1] * len(blague)\n",
    "for idx, multiple in enumerate(burger):\n",
    "    divo = blague[idx]\n",
    "\n",
    "    for i in range(idx+1, idx+divo+1):\n",
    "        burger[i] += multiple\n",
    "\n",
    "\n",
    "sum(burger)"
   ]
  }
 ],
 "metadata": {
  "kernelspec": {
   "display_name": "Python 3",
   "language": "python",
   "name": "python3"
  },
  "language_info": {
   "codemirror_mode": {
    "name": "ipython",
    "version": 3
   },
   "file_extension": ".py",
   "mimetype": "text/x-python",
   "name": "python",
   "nbconvert_exporter": "python",
   "pygments_lexer": "ipython3",
   "version": "3.11.5"
  }
 },
 "nbformat": 4,
 "nbformat_minor": 2
}
