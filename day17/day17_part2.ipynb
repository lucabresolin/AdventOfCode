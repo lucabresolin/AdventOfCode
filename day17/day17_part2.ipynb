{
 "cells": [
  {
   "cell_type": "code",
   "execution_count": 5,
   "metadata": {},
   "outputs": [],
   "source": [
    "with open(\"input.txt\") as f:\n",
    "    lines = tuple(map(lambda x : x.strip('\\n'), f.readlines()))\n",
    "LENGTH = len(lines)\n",
    "WIDTH = len(lines[0])"
   ]
  },
  {
   "cell_type": "code",
   "execution_count": 6,
   "metadata": {},
   "outputs": [
    {
     "data": {
      "text/plain": [
       "997"
      ]
     },
     "execution_count": 6,
     "metadata": {},
     "output_type": "execute_result"
    }
   ],
   "source": [
    "from heapq import heappop, heappush\n",
    "\n",
    "\n",
    "def pathfind():\n",
    "    already_visited = set()\n",
    "    l = [(0, 0, 1, 0, 1, 1), (0, 1, 0, 1, 0, 1)] \n",
    "\n",
    "    while len(l)>0:\n",
    "        current_distance, x, y, u, v, n_step = heappop(l)\n",
    "\n",
    "        if (x, y, u, v, n_step) not in already_visited:\n",
    "            already_visited.add((x, y, u, v, n_step))\n",
    "            current_heat = int(lines[x][y])\n",
    "            next_distance = current_distance+current_heat\n",
    "\n",
    "            if x==LENGTH-1 and y==WIDTH-1:\n",
    "                return next_distance\n",
    "            \n",
    "            dir_to_explore = []\n",
    "            if n_step<10:\n",
    "                dir_to_explore.append((u,v))\n",
    "            if n_step >= 4:\n",
    "                dir_to_explore += [(-v, -u), (v, u)]\n",
    "\n",
    "\n",
    "            for nu, nv in dir_to_explore:\n",
    "                nx, ny = x+nu, y+nv\n",
    "                next_state = (next_distance, nx, ny, nu, nv, 1 if nu!=u or nv!=v else n_step+1)\n",
    "                if nx in range(LENGTH) and ny in range(WIDTH):\n",
    "                    heappush(l, next_state)\n",
    "\n",
    "    return None\n",
    "\n",
    "pathfind()        "
   ]
  }
 ],
 "metadata": {
  "kernelspec": {
   "display_name": "venv",
   "language": "python",
   "name": "python3"
  },
  "language_info": {
   "codemirror_mode": {
    "name": "ipython",
    "version": 3
   },
   "file_extension": ".py",
   "mimetype": "text/x-python",
   "name": "python",
   "nbconvert_exporter": "python",
   "pygments_lexer": "ipython3",
   "version": "3.12.0"
  }
 },
 "nbformat": 4,
 "nbformat_minor": 2
}
