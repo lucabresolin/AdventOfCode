{
 "cells": [
  {
   "cell_type": "code",
   "execution_count": 16,
   "metadata": {},
   "outputs": [
    {
     "data": {
      "text/plain": [
       "['Time:        42     68     69     85\\n',\n",
       " 'Distance:   284   1005   1122   1341\\n']"
      ]
     },
     "execution_count": 16,
     "metadata": {},
     "output_type": "execute_result"
    }
   ],
   "source": [
    "with open(\"input.txt\", 'r') as f:\n",
    "    lines = f.readlines()\n",
    "lines"
   ]
  },
  {
   "cell_type": "code",
   "execution_count": 17,
   "metadata": {},
   "outputs": [
    {
     "name": "stdout",
     "output_type": "stream",
     "text": [
      "42686985 284100511221341\n"
     ]
    }
   ],
   "source": [
    "time = int(lines[0].split(':')[1].replace(\" \", \"\").replace(\"\\n\",\"\"))\n",
    "distance = int(lines[1].split(':')[1].replace(\" \", \"\").replace(\"\\n\",\"\"))\n",
    "print(time, distance)"
   ]
  },
  {
   "cell_type": "code",
   "execution_count": 18,
   "metadata": {},
   "outputs": [],
   "source": [
    "def get_distance(race_time, hold_time):\n",
    "    return (race_time - hold_time) * hold_time\n",
    "\n",
    "def get_number_record_breaking(race_time, distance_record):\n",
    "    n = 0\n",
    "    for i in range(race_time+1):\n",
    "        if get_distance(race_time, i) > distance_record:\n",
    "            n += 1\n",
    "    \n",
    "    return n\n"
   ]
  },
  {
   "cell_type": "code",
   "execution_count": 19,
   "metadata": {},
   "outputs": [
    {
     "data": {
      "text/plain": [
       "26187338"
      ]
     },
     "execution_count": 19,
     "metadata": {},
     "output_type": "execute_result"
    }
   ],
   "source": [
    "sl = get_number_record_breaking(time, distance)\n",
    "sl"
   ]
  }
 ],
 "metadata": {
  "kernelspec": {
   "display_name": "Python 3",
   "language": "python",
   "name": "python3"
  },
  "language_info": {
   "codemirror_mode": {
    "name": "ipython",
    "version": 3
   },
   "file_extension": ".py",
   "mimetype": "text/x-python",
   "name": "python",
   "nbconvert_exporter": "python",
   "pygments_lexer": "ipython3",
   "version": "3.11.5"
  }
 },
 "nbformat": 4,
 "nbformat_minor": 2
}
