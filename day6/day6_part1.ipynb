{
 "cells": [
  {
   "cell_type": "code",
   "execution_count": 15,
   "metadata": {},
   "outputs": [
    {
     "data": {
      "text/plain": [
       "['Time:        42     68     69     85\\n',\n",
       " 'Distance:   284   1005   1122   1341\\n']"
      ]
     },
     "execution_count": 15,
     "metadata": {},
     "output_type": "execute_result"
    }
   ],
   "source": [
    "with open(\"input.txt\", 'r') as f:\n",
    "    lines = f.readlines()\n",
    "lines"
   ]
  },
  {
   "cell_type": "code",
   "execution_count": 16,
   "metadata": {},
   "outputs": [
    {
     "name": "stdout",
     "output_type": "stream",
     "text": [
      "[42, 68, 69, 85] [284, 1005, 1122, 1341]\n"
     ]
    }
   ],
   "source": [
    "times = [int(elem) for elem in lines[0].split() if elem.isnumeric()]\n",
    "distances = [int(elem) for elem in lines[1].split() if elem.isnumeric()]\n",
    "print(times, distances)"
   ]
  },
  {
   "cell_type": "code",
   "execution_count": 17,
   "metadata": {},
   "outputs": [],
   "source": [
    "def get_distance(race_time, hold_time):\n",
    "    return (race_time - hold_time) * hold_time\n",
    "\n",
    "def get_number_record_breaking(race_time, distance_record):\n",
    "    n = 0\n",
    "    for i in range(race_time+1):\n",
    "        if get_distance(race_time, i) > distance_record:\n",
    "            n += 1\n",
    "    \n",
    "    return n\n"
   ]
  },
  {
   "cell_type": "code",
   "execution_count": 18,
   "metadata": {},
   "outputs": [
    {
     "data": {
      "text/plain": [
       "440000"
      ]
     },
     "execution_count": 18,
     "metadata": {},
     "output_type": "execute_result"
    }
   ],
   "source": [
    "sl = [get_number_record_breaking(times[k], distances[k]) for k in range(len(times))]\n",
    "\n",
    "produit = sl[0]\n",
    "for e in sl[1:]:\n",
    "    produit = produit*e\n",
    "produit"
   ]
  }
 ],
 "metadata": {
  "kernelspec": {
   "display_name": "Python 3",
   "language": "python",
   "name": "python3"
  },
  "language_info": {
   "codemirror_mode": {
    "name": "ipython",
    "version": 3
   },
   "file_extension": ".py",
   "mimetype": "text/x-python",
   "name": "python",
   "nbconvert_exporter": "python",
   "pygments_lexer": "ipython3",
   "version": "3.11.5"
  }
 },
 "nbformat": 4,
 "nbformat_minor": 2
}
