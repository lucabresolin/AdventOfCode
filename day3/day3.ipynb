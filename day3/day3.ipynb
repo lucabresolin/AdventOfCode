{
 "cells": [
  {
   "cell_type": "code",
   "execution_count": 71,
   "metadata": {},
   "outputs": [],
   "source": [
    "FILE = \"input.txt\"\n",
    "#FILE=\"test.txt\"\n",
    "with open(FILE, \"r\") as f:\n",
    "    lines = f.readlines()"
   ]
  },
  {
   "cell_type": "code",
   "execution_count": 59,
   "metadata": {},
   "outputs": [
    {
     "data": {
      "text/plain": [
       "556057"
      ]
     },
     "execution_count": 59,
     "metadata": {},
     "output_type": "execute_result"
    }
   ],
   "source": [
    "def has_symbol(line_coord,coord_start, coord_end):\n",
    "    possible_coordinates = [(x, y) for x in range(line_coord-1, line_coord+2) for y in range(coord_start-1, coord_end+2)]\n",
    "    possible_coordinates = [(x, y) for x, y in possible_coordinates if x in range(len(lines)) and y in range(len(lines[0]))]\n",
    "    for i, j in possible_coordinates:\n",
    "        carac = lines[i][j]\n",
    "        if not carac.isnumeric() and carac!='.' and carac !='\\n':\n",
    "            return True\n",
    "\n",
    "    return False\n",
    "\n",
    "somme = 0\n",
    "\n",
    "for idx_line, line in enumerate(lines):\n",
    "    current_number = \"\"\n",
    "    number_start_idx = None\n",
    "    for idx_char, char in enumerate(line):\n",
    "        if char.isnumeric():\n",
    "            if current_number == \"\":\n",
    "                number_start_idx = idx_char\n",
    "            current_number += char\n",
    "\n",
    "            if idx_char == len(line) - 1 or not line[idx_char+1].isnumeric():\n",
    "                if has_symbol(idx_line, number_start_idx, idx_char):\n",
    "                    somme += int(current_number)\n",
    "\n",
    "                current_number = \"\"\n",
    "\n",
    "\n",
    "\n",
    "somme\n"
   ]
  },
  {
   "cell_type": "markdown",
   "metadata": {},
   "source": [
    "# part 2"
   ]
  },
  {
   "cell_type": "code",
   "execution_count": 72,
   "metadata": {},
   "outputs": [
    {
     "data": {
      "text/plain": [
       "82824352"
      ]
     },
     "execution_count": 72,
     "metadata": {},
     "output_type": "execute_result"
    }
   ],
   "source": [
    "def has_symbol(line_coord,coord_start, coord_end):\n",
    "    possible_coordinates = [(x, y) for x in range(line_coord-1, line_coord+2) for y in range(coord_start-1, coord_end+2)]\n",
    "    possible_coordinates = [(x, y) for x, y in possible_coordinates if x in range(len(lines)) and y in range(len(lines[0]))]\n",
    "\n",
    "    gears= []\n",
    "    for i, j in possible_coordinates:\n",
    "        carac = lines[i][j]\n",
    "        if carac == '*':\n",
    "            gears.append((i,j))\n",
    "\n",
    "    return gears\n",
    "\n",
    "somme = 0\n",
    "dicoto = {}\n",
    "for idx_line, line in enumerate(lines):\n",
    "    current_number = \"\"\n",
    "    number_start_idx = None\n",
    "    for idx_char, char in enumerate(line):\n",
    "        if char.isnumeric():\n",
    "            if current_number == \"\":\n",
    "                number_start_idx = idx_char\n",
    "            current_number += char\n",
    "\n",
    "            if idx_char == len(line) - 1 or not line[idx_char+1].isnumeric():\n",
    "                symbolo = has_symbol(idx_line, number_start_idx, idx_char)\n",
    "                for symb in symbolo:\n",
    "                    if symb in dicoto:\n",
    "                        dicoto[symb] += [int(current_number)]\n",
    "                    else:\n",
    "                        dicoto[symb] = [int(current_number)]\n",
    "                current_number = \"\"\n",
    "\n",
    "gearos = [value for key, value in dicoto.items() if len(value)==2]\n",
    "sum([a*b for a,b in gearos])\n"
   ]
  },
  {
   "cell_type": "code",
   "execution_count": 66,
   "metadata": {},
   "outputs": [
    {
     "data": {
      "text/plain": [
       "{(1, 3): [467, 35], (4, 3): [617], (8, 5): [755, 598]}"
      ]
     },
     "execution_count": 66,
     "metadata": {},
     "output_type": "execute_result"
    }
   ],
   "source": [
    "dicoto"
   ]
  }
 ],
 "metadata": {
  "kernelspec": {
   "display_name": "base",
   "language": "python",
   "name": "python3"
  },
  "language_info": {
   "codemirror_mode": {
    "name": "ipython",
    "version": 3
   },
   "file_extension": ".py",
   "mimetype": "text/x-python",
   "name": "python",
   "nbconvert_exporter": "python",
   "pygments_lexer": "ipython3",
   "version": "3.11.5"
  }
 },
 "nbformat": 4,
 "nbformat_minor": 2
}
