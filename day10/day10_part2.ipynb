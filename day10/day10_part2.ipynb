{
 "cells": [
  {
   "cell_type": "code",
   "execution_count": 1,
   "metadata": {},
   "outputs": [
    {
     "data": {
      "text/plain": [
       "['..........',\n",
       " '.S------7.',\n",
       " '.|F----7|.',\n",
       " '.||....||.',\n",
       " '.||....||.',\n",
       " '.|L-7F-J|.',\n",
       " '.|..||..|.',\n",
       " '.L--JL--J.',\n",
       " '..........']"
      ]
     },
     "execution_count": 1,
     "metadata": {},
     "output_type": "execute_result"
    }
   ],
   "source": [
    "with open(\"test3.txt\") as f:\n",
    "    lines = [line.strip('\\n') for line in f.readlines()]\n",
    "    \n",
    "lines"
   ]
  },
  {
   "cell_type": "code",
   "execution_count": 2,
   "metadata": {},
   "outputs": [
    {
     "data": {
      "text/plain": [
       "(1, 1)"
      ]
     },
     "execution_count": 2,
     "metadata": {},
     "output_type": "execute_result"
    }
   ],
   "source": [
    "def get_starting_point(matrix):\n",
    "    for i in range(len(matrix)):\n",
    "        for j in range(len(matrix[i])):\n",
    "            if matrix[i][j] == 'S':\n",
    "                return i,j\n",
    "            \n",
    "pipe_way = {\n",
    "    \"|\" : (\"north\", \"south\"),\n",
    "    \"-\" : (\"west\", \"east\"),\n",
    "    \"L\" : (\"north\", \"east\"),\n",
    "    \"J\" : (\"north\", \"west\"),\n",
    "    \"7\" : (\"west\", \"south\"),\n",
    "    \"F\" : (\"east\", \"south\"),\n",
    "    \"S\" : (\"east\", \"south\",\"west\",\"north\"),\n",
    "    \".\" : None,\n",
    "}\n",
    "\n",
    "direction_to_coord = {\n",
    "    \"north\" : (-1, 0),\n",
    "    \"south\" : (1, 0),\n",
    "    \"east\" : (0, 1),\n",
    "    \"west\" : (0, -1)\n",
    "}\n",
    "\n",
    "reverse_direction = {\n",
    "    \"north\" : \"south\",\n",
    "    \"south\" : \"north\",\n",
    "    \"east\" : \"west\",\n",
    "    \"west\" : \"east\"\n",
    "}\n",
    "\n",
    "\n",
    "coord_to_direction= {value:key for key, value in direction_to_coord.items()}\n",
    "\n",
    "def add_tuple(tuple, touple):\n",
    "    a, b = touple\n",
    "    c , d = tuple\n",
    "    return a+c, b+d\n",
    "\n",
    "def get_symbol(matrix, tuple):\n",
    "    a, b = tuple\n",
    "    return matrix[a][b]\n",
    "\n",
    "def set_symbol(matrix, tuple, value):\n",
    "    a, b = tuple\n",
    "    new_str = matrix[a][:b] + str(value) + matrix[a][b+1:]\n",
    "    matrix[a] = new_str\n",
    "\n",
    "def inbound(coord, mat):\n",
    "    a, b = coord\n",
    "    return a>=0 and a<len(mat) and b>=0 and b<len(mat[0])\n",
    "\n",
    "start_point = get_starting_point(lines)\n",
    "start_point"
   ]
  },
  {
   "cell_type": "code",
   "execution_count": 3,
   "metadata": {},
   "outputs": [],
   "source": [
    "def get_longest_path(current_coord, direction, mat):\n",
    "    distances={}\n",
    "    length = 1\n",
    "    while inbound(current_coord, mat) and get_symbol(mat, current_coord)!='S':\n",
    "        current_symbol_dirs = pipe_way[get_symbol(mat, current_coord)]\n",
    "        reverse_previous_dir  = reverse_direction[direction]\n",
    "\n",
    "        if current_symbol_dirs is not None:\n",
    "            way = [symbol for symbol in current_symbol_dirs if symbol != reverse_previous_dir]\n",
    "\n",
    "            if len(way)==1:\n",
    "                distances[current_coord] = length\n",
    "                length +=1\n",
    "                direction = way[0]\n",
    "                current_coord = add_tuple(direction_to_coord[direction], current_coord)\n",
    "            else:\n",
    "                return distances\n",
    "        else:\n",
    "            return distances\n",
    "    \n",
    "    if get_symbol(mat, current_coord)=='S':\n",
    "        print(\"ouida\")\n",
    "        return distances\n",
    "\n",
    "\n",
    "    return distances\n",
    "\n",
    "def print_grid(matrix):\n",
    "    for elem in matrix:\n",
    "        print(elem)\n",
    "\n",
    "\n",
    "def merge_dict(ad, bd):\n",
    "    keys = [key for key in ad]\n",
    "    keys += [key for key in bd if key not in keys]\n",
    "    s={}\n",
    "    for key in keys:\n",
    "        if key not in ad:\n",
    "            s[key] = bd[key]\n",
    "        elif key not in bd:\n",
    "            s[key] = ad[key]\n",
    "        else:\n",
    "            elem1, elem2 = ad[key], bd[key]\n",
    "            if elem1 < elem2:\n",
    "                s[key] = elem1\n",
    "            else:\n",
    "                s[key] = elem2\n",
    "    return s \n",
    "        \n"
   ]
  },
  {
   "cell_type": "code",
   "execution_count": 4,
   "metadata": {},
   "outputs": [
    {
     "name": "stdout",
     "output_type": "stream",
     "text": [
      "---------\n",
      "ouida\n",
      "---------\n",
      "ouida\n",
      "---------\n",
      "---------\n"
     ]
    },
    {
     "data": {
      "text/plain": [
       "[]"
      ]
     },
     "execution_count": 4,
     "metadata": {},
     "output_type": "execute_result"
    }
   ],
   "source": [
    "current_position = start_point\n",
    "curr_dict = {}\n",
    "L = []\n",
    "maxito_len = 0\n",
    "path = {}\n",
    "for dir, add_val in direction_to_coord.items():\n",
    "    \n",
    "    next_coord = add_tuple(start_point, add_val)\n",
    "    sito = get_longest_path(next_coord, dir, lines)\n",
    "    sito[next_coord] = 1\n",
    "    if len(sito)>maxito_len:\n",
    "        maxito_len = len(sito)\n",
    "        path = sito\n",
    "    print('---------')\n",
    "L"
   ]
  },
  {
   "cell_type": "code",
   "execution_count": 5,
   "metadata": {},
   "outputs": [],
   "source": [
    "# curr_dict.pop((1,0))\n",
    "# curr_dict.pop((0,1))\n",
    "curr_dict[start_point] = 0"
   ]
  },
  {
   "cell_type": "code",
   "execution_count": 6,
   "metadata": {},
   "outputs": [
    {
     "name": "stdout",
     "output_type": "stream",
     "text": [
      "..........\n",
      ".S3210987.\n",
      ".16789016.\n",
      ".25....25.\n",
      ".34....34.\n",
      ".43216543.\n",
      ".5..07..2.\n",
      ".67898901.\n",
      "..........\n"
     ]
    }
   ],
   "source": [
    "copitrix = lines[:]\n",
    "for key, value in path.items():\n",
    "    set_symbol(copitrix, key, value%10)\n",
    "print_grid(copitrix)"
   ]
  },
  {
   "cell_type": "markdown",
   "metadata": {},
   "source": [
    "# inclus"
   ]
  },
  {
   "cell_type": "code",
   "execution_count": 7,
   "metadata": {},
   "outputs": [],
   "source": [
    "def get_orthogonal(diro):\n",
    "    ar = (diro[1], diro[0])\n",
    "    br = (-diro[1], -diro[0])\n",
    "    return [ar, br]\n",
    "\n",
    "def coord_clean(cooe):\n",
    "    if cooe in is_it_blocked:\n",
    "        return is_it_blocked[cooe]\n",
    "    return True\n",
    "\n",
    "def is_blocked(coord, matou):    \n",
    "    possible_next_coords =  [add_tuple(coord, value) for value in direction_to_coord.values()]\n",
    "    if False in [inbound(coo, matou) and coord_clean(coo) for coo in possible_next_coords]:\n",
    "        return False\n",
    "\n",
    "    return True\n",
    "\n",
    "def remove_tuple(a, b):\n",
    "    x, y =a\n",
    "    w, z = b\n",
    "    return (x-w, y-z)\n",
    "\n",
    "def mult_tuple(a, k):\n",
    "    x, y = a\n",
    "    return (x*k, y*k)\n",
    "\n",
    "def scroll_loop_until_exit(coord, dir, hole_dir):\n",
    "    two_ahead = add_tuple(coord, mult_tuple(dir, 2))\n",
    "    if inbound(two_ahead) and two_ahead not in path:\n",
    "        return two_ahead\n",
    "\n",
    "    chemins = [way for way in pipe_way[get_symbol(lines, coord)] if way!=coord_to_direction(dir)]\n",
    "    if len(chemins)==1:\n",
    "        chem = chemins[0]\n",
    "        dirms = direction_to_coord(chem)\n",
    "        if dirms!=hole_dir:\n",
    "            nxt_coo = add_tuple(coord, dirms)\n",
    "            orthogo_dire = get_orthogonal(dirms)\n",
    "            hole = None\n",
    "            for dire_orth in orthogo_dire:\n",
    "                voisin_orth = add_tuple(nxt_coo, dire_orth)\n",
    "                if ( voisin_orth in path and abs(path[nxt_coo] - path[voisin_orth])!=1):\n",
    "                    return scroll_loop_until_exit(next_coord, dirms, dire_orth)\n",
    "\n",
    "    return None\n",
    "\n",
    "    \n",
    "\n",
    "\n",
    "def voisins_contagion(coord, already_explored, tunnel_allowed = True):\n",
    "    possible_next_coords =  [add_tuple(coord, value) for value in direction_to_coord.values()]\n",
    "    possible_next_coords = [next_coord for next_coord in possible_next_coords ]\n",
    "\n",
    "    for next_coord in possible_next_coords:\n",
    "        is_inside_and_new = inbound(next_coord, lines) and next_coord not in already_explored\n",
    "        if_blocked = next_coord in is_it_blocked and is_it_blocked[next_coord] and next_coord not in path\n",
    "        is_loop  = next_coord in path  \n",
    "        hole = None\n",
    "\n",
    "\n",
    "        if is_loop and tunnel_allowed:\n",
    "            dir_to_get = remove_tuple(next_coord, coord)\n",
    "            if coord_to_direction[dir_to_get] in pipe_way[(get_symbol(lines, next_coord))]:\n",
    "                orthogo_dir = get_orthogonal(dir_to_get)\n",
    "                is_loop = False\n",
    "                for dire_orth in orthogo_dir:\n",
    "                    voisin_orth = add_tuple(next_coord, dire_orth)\n",
    "                    if ( voisin_orth in path and abs(path[next_coord] - path[voisin_orth])!=1):\n",
    "                        hole = scroll_loop_until_exit(next_coord, dir_to_get, dire_orth)\n",
    "    \n",
    "        if hole is not None:\n",
    "            is_it_blocked[next_coord] = False\n",
    "            voisins_contagion(next_coord, already_explored, False)\n",
    "        \n",
    "        if is_inside_and_new and if_blocked:\n",
    "            is_it_blocked[next_coord] = False\n",
    "            voisins_contagion(next_coord, already_explored, i+1)\n",
    "is_it_blocked = {}"
   ]
  },
  {
   "cell_type": "code",
   "execution_count": 8,
   "metadata": {},
   "outputs": [],
   "source": [
    "for i in range(len(lines)):\n",
    "    for j in range(len(lines[0])):\n",
    "        if (i,j) not in is_it_blocked and (i,j) not in curr_dict:\n",
    "            fct_call = is_blocked((i,j), lines)\n",
    "            is_it_blocked[(i,j)] = fct_call\n",
    "            if not fct_call:\n",
    "                voisins_contagion((i,j), [], 0)"
   ]
  },
  {
   "cell_type": "code",
   "execution_count": 9,
   "metadata": {},
   "outputs": [
    {
     "data": {
      "text/plain": [
       "0"
      ]
     },
     "execution_count": 9,
     "metadata": {},
     "output_type": "execute_result"
    }
   ],
   "source": [
    "sum([1 if value else 0 for value in  is_it_blocked.values()])"
   ]
  },
  {
   "cell_type": "code",
   "execution_count": 10,
   "metadata": {},
   "outputs": [
    {
     "name": "stdout",
     "output_type": "stream",
     "text": [
      "OOOOOOOOOO\n",
      "O0OOOOOOOO\n",
      "OOOOOOOOOO\n",
      "OOOOOOOOOO\n",
      "OOOOOOOOOO\n",
      "OOOOOOOOOO\n",
      "OOOOOOOOOO\n",
      "OOOOOOOOOO\n",
      "OOOOOOOOOO\n"
     ]
    }
   ],
   "source": [
    "tito = lambda x: \"I\" if x else \"O\"\n",
    "copitrixe = lines[:]\n",
    "for key, value in is_it_blocked.items():\n",
    "    set_symbol(copitrixe, key, tito(value) if key not in curr_dict else \"-\")\n",
    "for key, value in curr_dict.items():\n",
    "    set_symbol(copitrixe, key, value%10)\n",
    "print_grid(copitrixe)"
   ]
  }
 ],
 "metadata": {
  "kernelspec": {
   "display_name": "base",
   "language": "python",
   "name": "python3"
  },
  "language_info": {
   "codemirror_mode": {
    "name": "ipython",
    "version": 3
   },
   "file_extension": ".py",
   "mimetype": "text/x-python",
   "name": "python",
   "nbconvert_exporter": "python",
   "pygments_lexer": "ipython3",
   "version": "3.11.5"
  }
 },
 "nbformat": 4,
 "nbformat_minor": 2
}
