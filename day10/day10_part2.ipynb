{
 "cells": [
  {
   "cell_type": "code",
   "execution_count": 63,
   "metadata": {},
   "outputs": [
    {
     "ename": "FileNotFoundError",
     "evalue": "[Errno 2] No such file or directory: 'test4 .txt'",
     "output_type": "error",
     "traceback": [
      "\u001b[0;31m---------------------------------------------------------------------------\u001b[0m",
      "\u001b[0;31mFileNotFoundError\u001b[0m                         Traceback (most recent call last)",
      "Cell \u001b[0;32mIn[63], line 1\u001b[0m\n\u001b[0;32m----> 1\u001b[0m \u001b[38;5;28;01mwith\u001b[39;00m \u001b[38;5;28mopen\u001b[39m(\u001b[38;5;124m\"\u001b[39m\u001b[38;5;124mtest4 .txt\u001b[39m\u001b[38;5;124m\"\u001b[39m) \u001b[38;5;28;01mas\u001b[39;00m f:\n\u001b[1;32m      2\u001b[0m     lines \u001b[38;5;241m=\u001b[39m [line\u001b[38;5;241m.\u001b[39mstrip(\u001b[38;5;124m'\u001b[39m\u001b[38;5;130;01m\\n\u001b[39;00m\u001b[38;5;124m'\u001b[39m) \u001b[38;5;28;01mfor\u001b[39;00m line \u001b[38;5;129;01min\u001b[39;00m f\u001b[38;5;241m.\u001b[39mreadlines()]\n\u001b[1;32m      4\u001b[0m lines\n",
      "File \u001b[0;32m~/anaconda3/lib/python3.11/site-packages/IPython/core/interactiveshell.py:286\u001b[0m, in \u001b[0;36m_modified_open\u001b[0;34m(file, *args, **kwargs)\u001b[0m\n\u001b[1;32m    279\u001b[0m \u001b[38;5;28;01mif\u001b[39;00m file \u001b[38;5;129;01min\u001b[39;00m {\u001b[38;5;241m0\u001b[39m, \u001b[38;5;241m1\u001b[39m, \u001b[38;5;241m2\u001b[39m}:\n\u001b[1;32m    280\u001b[0m     \u001b[38;5;28;01mraise\u001b[39;00m \u001b[38;5;167;01mValueError\u001b[39;00m(\n\u001b[1;32m    281\u001b[0m         \u001b[38;5;124mf\u001b[39m\u001b[38;5;124m\"\u001b[39m\u001b[38;5;124mIPython won\u001b[39m\u001b[38;5;124m'\u001b[39m\u001b[38;5;124mt let you open fd=\u001b[39m\u001b[38;5;132;01m{\u001b[39;00mfile\u001b[38;5;132;01m}\u001b[39;00m\u001b[38;5;124m by default \u001b[39m\u001b[38;5;124m\"\u001b[39m\n\u001b[1;32m    282\u001b[0m         \u001b[38;5;124m\"\u001b[39m\u001b[38;5;124mas it is likely to crash IPython. If you know what you are doing, \u001b[39m\u001b[38;5;124m\"\u001b[39m\n\u001b[1;32m    283\u001b[0m         \u001b[38;5;124m\"\u001b[39m\u001b[38;5;124myou can use builtins\u001b[39m\u001b[38;5;124m'\u001b[39m\u001b[38;5;124m open.\u001b[39m\u001b[38;5;124m\"\u001b[39m\n\u001b[1;32m    284\u001b[0m     )\n\u001b[0;32m--> 286\u001b[0m \u001b[38;5;28;01mreturn\u001b[39;00m io_open(file, \u001b[38;5;241m*\u001b[39margs, \u001b[38;5;241m*\u001b[39m\u001b[38;5;241m*\u001b[39mkwargs)\n",
      "\u001b[0;31mFileNotFoundError\u001b[0m: [Errno 2] No such file or directory: 'test4 .txt'"
     ]
    }
   ],
   "source": [
    "with open(\"test4 .txt\") as f:\n",
    "    lines = [line.strip('\\n') for line in f.readlines()]\n",
    "    \n",
    "lines"
   ]
  },
  {
   "cell_type": "code",
   "execution_count": null,
   "metadata": {},
   "outputs": [
    {
     "data": {
      "text/plain": [
       "(1, 1)"
      ]
     },
     "execution_count": 56,
     "metadata": {},
     "output_type": "execute_result"
    }
   ],
   "source": [
    "def get_starting_point(matrix):\n",
    "    for i in range(len(matrix)):\n",
    "        for j in range(len(matrix[i])):\n",
    "            if matrix[i][j] == 'S':\n",
    "                return i,j\n",
    "            \n",
    "pipe_way = {\n",
    "    \"|\" : (\"north\", \"south\"),\n",
    "    \"-\" : (\"west\", \"east\"),\n",
    "    \"L\" : (\"north\", \"east\"),\n",
    "    \"J\" : (\"north\", \"west\"),\n",
    "    \"7\" : (\"west\", \"south\"),\n",
    "    \"F\" : (\"east\", \"south\"),\n",
    "    \".\" : None,\n",
    "}\n",
    "\n",
    "direction_to_coord = {\n",
    "    \"north\" : (-1, 0),\n",
    "    \"south\" : (1, 0),\n",
    "    \"east\" : (0, 1),\n",
    "    \"west\" : (0, -1)\n",
    "}\n",
    "\n",
    "reverse_direction = {\n",
    "    \"north\" : \"south\",\n",
    "    \"south\" : \"north\",\n",
    "    \"east\" : \"west\",\n",
    "    \"west\" : \"east\"\n",
    "}\n",
    "\n",
    "\n",
    "coord_to_direction= {value:key for key, value in direction_to_coord.items()}\n",
    "\n",
    "def add_tuple(tuple, touple):\n",
    "    a, b = touple\n",
    "    c , d = tuple\n",
    "    return a+c, b+d\n",
    "\n",
    "def get_symbol(matrix, tuple):\n",
    "    a, b = tuple\n",
    "    return matrix[a][b]\n",
    "\n",
    "def set_symbol(matrix, tuple, value):\n",
    "    a, b = tuple\n",
    "    new_str = matrix[a][:b] + str(value) + matrix[a][b+1:]\n",
    "    matrix[a] = new_str\n",
    "\n",
    "def inbound(coord, mat):\n",
    "    a, b = coord\n",
    "    return a>=0 and a<len(mat) and b>=0 and b<len(mat[0])\n",
    "\n",
    "start_point = get_starting_point(lines)\n",
    "start_point"
   ]
  },
  {
   "cell_type": "code",
   "execution_count": null,
   "metadata": {},
   "outputs": [],
   "source": [
    "def get_longest_path(current_coord, direction, mat):\n",
    "    distances={}\n",
    "    length = 1\n",
    "    while inbound(current_coord, mat) and get_symbol(mat, current_coord)!='S':\n",
    "        current_symbol_dirs = pipe_way[get_symbol(mat, current_coord)]\n",
    "        reverse_previous_dir  = reverse_direction[direction]\n",
    "\n",
    "        if current_symbol_dirs is not None:\n",
    "            way = [symbol for symbol in current_symbol_dirs if symbol != reverse_previous_dir]\n",
    "\n",
    "            if len(way)==1:\n",
    "                distances[current_coord] = length\n",
    "                length +=1\n",
    "                direction = way[0]\n",
    "                current_coord = add_tuple(direction_to_coord[direction], current_coord)\n",
    "            else:\n",
    "                return distances\n",
    "        else:\n",
    "            return distances\n",
    "\n",
    "    return distances\n",
    "\n",
    "def print_grid(matrix):\n",
    "    for elem in matrix:\n",
    "        print(elem)\n",
    "\n",
    "\n",
    "def merge_dict(ad, bd):\n",
    "    keys = [key for key in ad]\n",
    "    keys += [key for key in bd if key not in keys]\n",
    "    s={}\n",
    "    for key in keys:\n",
    "        if key not in ad:\n",
    "            s[key] = bd[key]\n",
    "        elif key not in bd:\n",
    "            s[key] = ad[key]\n",
    "        else:\n",
    "            elem1, elem2 = ad[key], bd[key]\n",
    "            if elem1 < elem2:\n",
    "                s[key] = elem1\n",
    "            else:\n",
    "                s[key] = elem2\n",
    "    return s \n",
    "        \n"
   ]
  },
  {
   "cell_type": "code",
   "execution_count": null,
   "metadata": {},
   "outputs": [
    {
     "name": "stdout",
     "output_type": "stream",
     "text": [
      "---------\n",
      "---------\n",
      "---------\n",
      "---------\n"
     ]
    },
    {
     "data": {
      "text/plain": [
       "23"
      ]
     },
     "execution_count": 58,
     "metadata": {},
     "output_type": "execute_result"
    }
   ],
   "source": [
    "current_position = start_point\n",
    "curr_dict = {}\n",
    "for dir, add_val in direction_to_coord.items():\n",
    "    \n",
    "    next_coord = add_tuple(start_point, add_val)\n",
    "    sito = get_longest_path(next_coord, dir, lines)\n",
    "    sito[next_coord] = 1\n",
    "    curr_dict = merge_dict(sito, curr_dict)\n",
    "    print('---------')\n",
    "max(curr_dict.values())"
   ]
  },
  {
   "cell_type": "code",
   "execution_count": null,
   "metadata": {},
   "outputs": [],
   "source": [
    "curr_dict.pop((1,0))\n",
    "curr_dict.pop((0,1))\n",
    "curr_dict[start_point] = 0"
   ]
  },
  {
   "cell_type": "code",
   "execution_count": null,
   "metadata": {},
   "outputs": [
    {
     "data": {
      "text/plain": [
       "10"
      ]
     },
     "execution_count": 60,
     "metadata": {},
     "output_type": "execute_result"
    }
   ],
   "source": [
    "import math\n",
    "math.ceil(9.5)"
   ]
  },
  {
   "cell_type": "code",
   "execution_count": null,
   "metadata": {},
   "outputs": [
    {
     "name": "stdout",
     "output_type": "stream",
     "text": [
      "...........\n",
      ".xxxxxxxxx.\n",
      ".xxxxxxxxx.\n",
      ".xx.....xx.\n",
      ".xx.....xx.\n",
      ".xxxx.xxxx.\n",
      ".x..x.x..x.\n",
      ".xxxx.xxxx.\n",
      "...........\n"
     ]
    }
   ],
   "source": [
    "copitrix = lines[:]\n",
    "for key, value in curr_dict.items():\n",
    "    set_symbol(copitrix, key, \"x\")\n",
    "print_grid(copitrix)"
   ]
  },
  {
   "cell_type": "markdown",
   "metadata": {},
   "source": [
    "# inclus"
   ]
  },
  {
   "cell_type": "code",
   "execution_count": 66,
   "metadata": {},
   "outputs": [
    {
     "ename": "RecursionError",
     "evalue": "maximum recursion depth exceeded in comparison",
     "output_type": "error",
     "traceback": [
      "\u001b[0;31m---------------------------------------------------------------------------\u001b[0m",
      "\u001b[0;31mRecursionError\u001b[0m                            Traceback (most recent call last)",
      "Cell \u001b[0;32mIn[66], line 29\u001b[0m\n\u001b[1;32m     26\u001b[0m     \u001b[38;5;28;01mreturn\u001b[39;00m \u001b[38;5;28;01mFalse\u001b[39;00m\n\u001b[1;32m     28\u001b[0m \u001b[38;5;28;01mfor\u001b[39;00m i,j \u001b[38;5;129;01min\u001b[39;00m \u001b[38;5;28mzip\u001b[39m(\u001b[38;5;28mrange\u001b[39m(\u001b[38;5;28mlen\u001b[39m(lines)), \u001b[38;5;28mrange\u001b[39m(\u001b[38;5;28mlen\u001b[39m(lines[\u001b[38;5;241m0\u001b[39m]))):\n\u001b[0;32m---> 29\u001b[0m     is_blocked((i,j), lines)\n",
      "Cell \u001b[0;32mIn[66], line 22\u001b[0m, in \u001b[0;36mis_blocked\u001b[0;34m(coord, matou)\u001b[0m\n\u001b[1;32m     20\u001b[0m     dinamicpro[dingito] \u001b[38;5;241m=\u001b[39m \u001b[38;5;28;01mFalse\u001b[39;00m\n\u001b[1;32m     21\u001b[0m \u001b[38;5;28;01mif\u001b[39;00m dingito \u001b[38;5;129;01mnot\u001b[39;00m \u001b[38;5;129;01min\u001b[39;00m dinamicpro:\n\u001b[0;32m---> 22\u001b[0m     aboze \u001b[38;5;241m=\u001b[39m is_blocked(dingito, matou)\n\u001b[1;32m     23\u001b[0m     dinamicpro[dingito] \u001b[38;5;241m=\u001b[39m aboze\n\u001b[1;32m     24\u001b[0m     \u001b[38;5;28;01mif\u001b[39;00m aboze:\n",
      "Cell \u001b[0;32mIn[66], line 22\u001b[0m, in \u001b[0;36mis_blocked\u001b[0;34m(coord, matou)\u001b[0m\n\u001b[1;32m     20\u001b[0m     dinamicpro[dingito] \u001b[38;5;241m=\u001b[39m \u001b[38;5;28;01mFalse\u001b[39;00m\n\u001b[1;32m     21\u001b[0m \u001b[38;5;28;01mif\u001b[39;00m dingito \u001b[38;5;129;01mnot\u001b[39;00m \u001b[38;5;129;01min\u001b[39;00m dinamicpro:\n\u001b[0;32m---> 22\u001b[0m     aboze \u001b[38;5;241m=\u001b[39m is_blocked(dingito, matou)\n\u001b[1;32m     23\u001b[0m     dinamicpro[dingito] \u001b[38;5;241m=\u001b[39m aboze\n\u001b[1;32m     24\u001b[0m     \u001b[38;5;28;01mif\u001b[39;00m aboze:\n",
      "    \u001b[0;31m[... skipping similar frames: is_blocked at line 22 (2968 times)]\u001b[0m\n",
      "Cell \u001b[0;32mIn[66], line 22\u001b[0m, in \u001b[0;36mis_blocked\u001b[0;34m(coord, matou)\u001b[0m\n\u001b[1;32m     20\u001b[0m     dinamicpro[dingito] \u001b[38;5;241m=\u001b[39m \u001b[38;5;28;01mFalse\u001b[39;00m\n\u001b[1;32m     21\u001b[0m \u001b[38;5;28;01mif\u001b[39;00m dingito \u001b[38;5;129;01mnot\u001b[39;00m \u001b[38;5;129;01min\u001b[39;00m dinamicpro:\n\u001b[0;32m---> 22\u001b[0m     aboze \u001b[38;5;241m=\u001b[39m is_blocked(dingito, matou)\n\u001b[1;32m     23\u001b[0m     dinamicpro[dingito] \u001b[38;5;241m=\u001b[39m aboze\n\u001b[1;32m     24\u001b[0m     \u001b[38;5;28;01mif\u001b[39;00m aboze:\n",
      "Cell \u001b[0;32mIn[66], line 15\u001b[0m, in \u001b[0;36mis_blocked\u001b[0;34m(coord, matou)\u001b[0m\n\u001b[1;32m     12\u001b[0m     \u001b[38;5;28;01mreturn\u001b[39;00m dinamicpro[coord]\n\u001b[1;32m     14\u001b[0m possible_next_coords \u001b[38;5;241m=\u001b[39m  [add_tuple(coord, value) \u001b[38;5;28;01mfor\u001b[39;00m value \u001b[38;5;129;01min\u001b[39;00m direction_to_coord\u001b[38;5;241m.\u001b[39mvalues()]\n\u001b[0;32m---> 15\u001b[0m \u001b[38;5;28;01mif\u001b[39;00m \u001b[38;5;28;01mFalse\u001b[39;00m \u001b[38;5;129;01min\u001b[39;00m [inbound(coo, matou) \u001b[38;5;28;01mfor\u001b[39;00m coo \u001b[38;5;129;01min\u001b[39;00m possible_next_coords]:\n\u001b[1;32m     16\u001b[0m     \u001b[38;5;28;01mreturn\u001b[39;00m \u001b[38;5;28;01mTrue\u001b[39;00m\n\u001b[1;32m     18\u001b[0m \u001b[38;5;28;01mfor\u001b[39;00m dingito \u001b[38;5;129;01min\u001b[39;00m possible_next_coords:\n",
      "Cell \u001b[0;32mIn[66], line 15\u001b[0m, in \u001b[0;36m<listcomp>\u001b[0;34m(.0)\u001b[0m\n\u001b[1;32m     12\u001b[0m     \u001b[38;5;28;01mreturn\u001b[39;00m dinamicpro[coord]\n\u001b[1;32m     14\u001b[0m possible_next_coords \u001b[38;5;241m=\u001b[39m  [add_tuple(coord, value) \u001b[38;5;28;01mfor\u001b[39;00m value \u001b[38;5;129;01min\u001b[39;00m direction_to_coord\u001b[38;5;241m.\u001b[39mvalues()]\n\u001b[0;32m---> 15\u001b[0m \u001b[38;5;28;01mif\u001b[39;00m \u001b[38;5;28;01mFalse\u001b[39;00m \u001b[38;5;129;01min\u001b[39;00m [inbound(coo, matou) \u001b[38;5;28;01mfor\u001b[39;00m coo \u001b[38;5;129;01min\u001b[39;00m possible_next_coords]:\n\u001b[1;32m     16\u001b[0m     \u001b[38;5;28;01mreturn\u001b[39;00m \u001b[38;5;28;01mTrue\u001b[39;00m\n\u001b[1;32m     18\u001b[0m \u001b[38;5;28;01mfor\u001b[39;00m dingito \u001b[38;5;129;01min\u001b[39;00m possible_next_coords:\n",
      "Cell \u001b[0;32mIn[56], line 50\u001b[0m, in \u001b[0;36minbound\u001b[0;34m(coord, mat)\u001b[0m\n\u001b[1;32m     48\u001b[0m \u001b[38;5;28;01mdef\u001b[39;00m \u001b[38;5;21minbound\u001b[39m(coord, mat):\n\u001b[1;32m     49\u001b[0m     a, b \u001b[38;5;241m=\u001b[39m coord\n\u001b[0;32m---> 50\u001b[0m     \u001b[38;5;28;01mreturn\u001b[39;00m a\u001b[38;5;241m>\u001b[39m\u001b[38;5;241m=\u001b[39m\u001b[38;5;241m0\u001b[39m \u001b[38;5;129;01mand\u001b[39;00m a\u001b[38;5;241m<\u001b[39m\u001b[38;5;28mlen\u001b[39m(mat) \u001b[38;5;129;01mand\u001b[39;00m b\u001b[38;5;241m>\u001b[39m\u001b[38;5;241m=\u001b[39m\u001b[38;5;241m0\u001b[39m \u001b[38;5;129;01mand\u001b[39;00m b\u001b[38;5;241m<\u001b[39m\u001b[38;5;28mlen\u001b[39m(mat[\u001b[38;5;241m0\u001b[39m])\n",
      "\u001b[0;31mRecursionError\u001b[0m: maximum recursion depth exceeded in comparison"
     ]
    }
   ],
   "source": [
    "dinamicpro = {}\n",
    "\n",
    "def get_orthogonal(diro):\n",
    "    ar = (diro[1], diro[0])\n",
    "    br = (-diro[1], -diro[0])\n",
    "    return [ar, br]\n",
    "\n",
    "\n",
    "\n",
    "def is_blocked(coord, matou):\n",
    "    if coord in dinamicpro:\n",
    "        return dinamicpro[coord]\n",
    "    \n",
    "    possible_next_coords =  [add_tuple(coord, value) for value in direction_to_coord.values()]\n",
    "    if False in [inbound(coo, matou) for coo in possible_next_coords]:\n",
    "        return True\n",
    "\n",
    "    return False\n",
    "\n",
    "for i,j in zip(range(len(lines)), range(len(lines[0]))):\n",
    "    is_blocked((i,j), lines)"
   ]
  }
 ],
 "metadata": {
  "kernelspec": {
   "display_name": "base",
   "language": "python",
   "name": "python3"
  },
  "language_info": {
   "codemirror_mode": {
    "name": "ipython",
    "version": 3
   },
   "file_extension": ".py",
   "mimetype": "text/x-python",
   "name": "python",
   "nbconvert_exporter": "python",
   "pygments_lexer": "ipython3",
   "version": "3.11.5"
  }
 },
 "nbformat": 4,
 "nbformat_minor": 2
}
