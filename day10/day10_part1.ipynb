{
 "cells": [
  {
   "cell_type": "code",
   "execution_count": 88,
   "metadata": {},
   "outputs": [
    {
     "data": {
      "text/plain": [
       "['.7--77|.|-|77F|.J.|.FF.J-|7F--7F7.J----7FJ77J..F77-77-F.F|7-|F-.|F777FF7|-.-|-7|..FFL---L7-7FL7L-|-77.FL-7FF-7FJF|-7|7-FF|-|.J-FLJ7.F7.F7--L',\n",
       " 'L||.L-7FJF|7L--|F||.777L||F7J.LJJ7JLFJL7J|LF-FJ.77||F.LF|J7FF|L-|||L7-F-L7FLJL-JFFFJ..J7|.FL-7-|J|JF|-|J.L7F7|7.|J7|L7J|7F7...7LJFF7JJF7.|F|',\n",
       " 'FLL|7-F7.JLF-77|FLF.L777L7LJ|||LL|J.|--L.|.|-L|-|JFJ7..FJLLFL7J||J|J|-|J|L|LJ----7J-F--7L--7L--77L7LJ7JJ|7LL7LL-JFFL-L-L7LJ7F7|..|LL-7LJFJ-7',\n",
       " '|L|||FJ|-LF-7L7L-7.F7F77.J7.7|L--|.L|J.||.FJ7--.F7LJ|FLJ.F|LLJJF|--7L7J7F|FJ-F|.-J.F7FF7J.|FJF||--7JFFJF|F|JL-|JFJJ7FJL|||LJJFJF7|.J.L--J7F|',\n",
       " '|-F-F|J||F7J-|JF||.|FJ|F7.F-7-|.F.-7|7F||-F7-77-77-7J7F-L77JF..7JJL7J|LF-7J..|J.|7FLJ-LJ|F-7-7-JFFL-L|-|-LJ-|-|.|LJLF7|LF-|F7-|L.L7--7LJLF-J']"
      ]
     },
     "execution_count": 88,
     "metadata": {},
     "output_type": "execute_result"
    }
   ],
   "source": [
    "with open(\"input.txt\") as f:\n",
    "    lines = [line.strip('\\n') for line in f.readlines()]\n",
    "    \n",
    "lines[:5]"
   ]
  },
  {
   "cell_type": "code",
   "execution_count": 83,
   "metadata": {},
   "outputs": [
    {
     "data": {
      "text/plain": [
       "(25, 77)"
      ]
     },
     "execution_count": 83,
     "metadata": {},
     "output_type": "execute_result"
    }
   ],
   "source": [
    "def get_starting_point(matrix):\n",
    "    for i in range(len(matrix)):\n",
    "        for j in range(len(matrix[i])):\n",
    "            if matrix[i][j] == 'S':\n",
    "                return i,j\n",
    "            \n",
    "pipe_way = {\n",
    "    \"|\" : (\"north\", \"south\"),\n",
    "    \"-\" : (\"west\", \"east\"),\n",
    "    \"L\" : (\"north\", \"east\"),\n",
    "    \"J\" : (\"north\", \"west\"),\n",
    "    \"7\" : (\"west\", \"south\"),\n",
    "    \"F\" : (\"east\", \"south\"),\n",
    "    \".\" : None,\n",
    "}\n",
    "\n",
    "direction_to_coord = {\n",
    "    \"north\" : (-1, 0),\n",
    "    \"south\" : (1, 0),\n",
    "    \"east\" : (0, 1),\n",
    "    \"west\" : (0, -1)\n",
    "}\n",
    "\n",
    "reverse_direction = {\n",
    "    \"north\" : \"south\",\n",
    "    \"south\" : \"north\",\n",
    "    \"east\" : \"west\",\n",
    "    \"west\" : \"east\"\n",
    "}\n",
    "\n",
    "\n",
    "coord_to_direction= {value:key for key, value in direction_to_coord.items()}\n",
    "\n",
    "def add_tuple(tuple, touple):\n",
    "    a, b = touple\n",
    "    c , d = tuple\n",
    "    return a+c, b+d\n",
    "\n",
    "def get_symbol(matrix, tuple):\n",
    "    a, b = tuple\n",
    "    return matrix[a][b]\n",
    "\n",
    "def inbound(coord, mat):\n",
    "    a, b = coord\n",
    "    return a>=0 and a<len(mat) and b>=0 and b<len(mat[0])\n",
    "\n",
    "start_point = get_starting_point(lines)\n",
    "start_point"
   ]
  },
  {
   "cell_type": "code",
   "execution_count": 84,
   "metadata": {},
   "outputs": [],
   "source": [
    "\n",
    "def get_longest_path(current_coord, direction, mat):\n",
    "    distances={}\n",
    "    length = 1\n",
    "    while inbound(current_coord, mat) and get_symbol(mat, current_coord)!='S':\n",
    "        current_symbol_dirs = pipe_way[get_symbol(mat, current_coord)]\n",
    "        reverse_previous_dir  = reverse_direction[direction]\n",
    "\n",
    "        if current_symbol_dirs is not None:\n",
    "            way = [symbol for symbol in current_symbol_dirs if symbol != reverse_previous_dir]\n",
    "\n",
    "            if len(way)==1:\n",
    "                distances[current_coord] = length\n",
    "                length +=1\n",
    "                direction = way[0]\n",
    "                current_coord = add_tuple(direction_to_coord[direction], current_coord)\n",
    "            else:\n",
    "                return distances\n",
    "        else:\n",
    "            return distances\n",
    "\n",
    "    return distances\n",
    "\n",
    "def print_grid(matrix):\n",
    "    for elem in matrix:\n",
    "        print(elem)\n",
    "\n",
    "\n",
    "def merge_dict(ad, bd):\n",
    "    keys = [key for key in ad]\n",
    "    keys += [key for key in bd if key not in keys]\n",
    "    s={}\n",
    "    for key in keys:\n",
    "        if key not in ad:\n",
    "            s[key] = bd[key]\n",
    "        elif key not in bd:\n",
    "            s[key] = ad[key]\n",
    "        else:\n",
    "            elem1, elem2 = ad[key], bd[key]\n",
    "            if elem1 < elem2:\n",
    "                s[key] = elem1\n",
    "            else:\n",
    "                s[key] = elem2\n",
    "    return s \n",
    "        \n"
   ]
  },
  {
   "cell_type": "code",
   "execution_count": 85,
   "metadata": {},
   "outputs": [
    {
     "name": "stdout",
     "output_type": "stream",
     "text": [
      "---------\n",
      "---------\n",
      "---------\n",
      "---------\n"
     ]
    },
    {
     "data": {
      "text/plain": [
       "6786"
      ]
     },
     "execution_count": 85,
     "metadata": {},
     "output_type": "execute_result"
    }
   ],
   "source": [
    "current_position = start_point\n",
    "curr_dict = {}\n",
    "for dir, add_val in direction_to_coord.items():\n",
    "    next_coord = add_tuple(start_point, add_val)\n",
    "    sito = get_longest_path(next_coord, dir, lines)\n",
    "    sito[next_coord] = 1\n",
    "    curr_dict = merge_dict(sito, curr_dict)\n",
    "    print('---------')\n",
    "max(curr_dict.values())"
   ]
  }
 ],
 "metadata": {
  "kernelspec": {
   "display_name": "base",
   "language": "python",
   "name": "python3"
  },
  "language_info": {
   "codemirror_mode": {
    "name": "ipython",
    "version": 3
   },
   "file_extension": ".py",
   "mimetype": "text/x-python",
   "name": "python",
   "nbconvert_exporter": "python",
   "pygments_lexer": "ipython3",
   "version": "3.11.5"
  }
 },
 "nbformat": 4,
 "nbformat_minor": 2
}
