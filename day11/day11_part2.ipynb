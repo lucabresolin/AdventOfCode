{
 "cells": [
  {
   "cell_type": "code",
   "execution_count": 168,
   "metadata": {},
   "outputs": [
    {
     "data": {
      "text/plain": [
       "array([['.', '.', '.', ..., '.', '.', '.'],\n",
       "       ['.', '.', '.', ..., '.', '.', '.'],\n",
       "       ['.', '.', '.', ..., '.', '.', '.'],\n",
       "       ...,\n",
       "       ['.', '.', '.', ..., '.', '.', '#'],\n",
       "       ['.', '.', '.', ..., '.', '.', '.'],\n",
       "       ['.', '.', '#', ..., '.', '.', '.']], dtype='<U1')"
      ]
     },
     "execution_count": 168,
     "metadata": {},
     "output_type": "execute_result"
    }
   ],
   "source": [
    "import numpy as np\n",
    "with open(\"input.txt\") as f:\n",
    "    lines = [list(line.strip('\\n')) for line in f.readlines()]\n",
    "arr = np.array(lines)\n",
    "arr"
   ]
  },
  {
   "cell_type": "code",
   "execution_count": 169,
   "metadata": {},
   "outputs": [
    {
     "name": "stdout",
     "output_type": "stream",
     "text": [
      "empty -- rows [55, 62, 72, 75, 88, 89] -- cols [35, 59, 77, 79, 81, 97, 123]\n",
      "(140, 140)\n"
     ]
    }
   ],
   "source": [
    "empty_cols = []\n",
    "empty_rows = []\n",
    "\n",
    "for i in range(arr.shape[0]):\n",
    "    if '#' not in arr[i]:\n",
    "        empty_rows.append(i)\n",
    "\n",
    "for j in range(arr.shape[1]):\n",
    "    if '#' not in arr[:, j]:\n",
    "        empty_cols.append(j)\n",
    "\n",
    "print(f\"empty -- rows {empty_rows} -- cols {empty_cols}\")\n",
    "print(arr.shape)"
   ]
  },
  {
   "cell_type": "code",
   "execution_count": 170,
   "metadata": {},
   "outputs": [
    {
     "name": "stdout",
     "output_type": "stream",
     "text": [
      "[['.' '.' '.' ... '.' '.' '.']\n",
      " ['.' '.' '.' ... '.' '.' '.']\n",
      " ['.' '.' '.' ... '.' '.' '.']\n",
      " ...\n",
      " ['.' '.' '.' ... '.' '.' '#']\n",
      " ['.' '.' '.' ... '.' '.' '.']\n",
      " ['.' '.' '#' ... '.' '.' '.']]\n"
     ]
    }
   ],
   "source": [
    "print(arr)"
   ]
  },
  {
   "cell_type": "code",
   "execution_count": 171,
   "metadata": {},
   "outputs": [
    {
     "data": {
      "text/plain": [
       "441"
      ]
     },
     "execution_count": 171,
     "metadata": {},
     "output_type": "execute_result"
    }
   ],
   "source": [
    "galaxy = [(i,j) for i in range(arr.shape[0]) for j in range(arr.shape[1]) if arr[i,j]=='#']\n",
    "len(galaxy)"
   ]
  },
  {
   "cell_type": "code",
   "execution_count": 172,
   "metadata": {},
   "outputs": [
    {
     "data": {
      "text/plain": [
       "[]"
      ]
     },
     "execution_count": 172,
     "metadata": {},
     "output_type": "execute_result"
    }
   ],
   "source": [
    "list(range(10, 0))"
   ]
  },
  {
   "cell_type": "code",
   "execution_count": 173,
   "metadata": {},
   "outputs": [
    {
     "data": {
      "text/plain": [
       "[5000086, 5000065, 4000037, 3000015]"
      ]
     },
     "execution_count": 173,
     "metadata": {},
     "output_type": "execute_result"
    }
   ],
   "source": [
    "RATIO = 1000000\n",
    "def get_distance(point1, point2):\n",
    "    x, y = point1\n",
    "    a, b = point2\n",
    "\n",
    "    expanded_rows_passed = [row for row in empty_rows if row in range(x+1, a) or row in range(a+1, x)]\n",
    "\n",
    "    dist_x = abs(x-a) + len(expanded_rows_passed) * (RATIO-1)\n",
    "\n",
    "    expanded_cols_passed = [col for col in empty_cols if col in range(y+1, b) or col in range(b+1, y)]\n",
    "\n",
    "    dist_y = abs(b-y) + len(expanded_cols_passed)* (RATIO-1)\n",
    "\n",
    "    return dist_x + dist_y\n",
    "\n",
    "distances = []\n",
    "for i in range(len(galaxy)):\n",
    "    for j in range(i+1, len(galaxy)):\n",
    "        distances.append(get_distance(galaxy[i], galaxy[j]))\n",
    "distances[:4]"
   ]
  },
  {
   "cell_type": "code",
   "execution_count": 174,
   "metadata": {},
   "outputs": [
    {
     "data": {
      "text/plain": [
       "97020"
      ]
     },
     "execution_count": 174,
     "metadata": {},
     "output_type": "execute_result"
    }
   ],
   "source": [
    "len(distances)"
   ]
  },
  {
   "cell_type": "code",
   "execution_count": 175,
   "metadata": {},
   "outputs": [
    {
     "data": {
      "text/plain": [
       "569052586852"
      ]
     },
     "execution_count": 175,
     "metadata": {},
     "output_type": "execute_result"
    }
   ],
   "source": [
    "sum(distances)"
   ]
  }
 ],
 "metadata": {
  "kernelspec": {
   "display_name": "base",
   "language": "python",
   "name": "python3"
  },
  "language_info": {
   "codemirror_mode": {
    "name": "ipython",
    "version": 3
   },
   "file_extension": ".py",
   "mimetype": "text/x-python",
   "name": "python",
   "nbconvert_exporter": "python",
   "pygments_lexer": "ipython3",
   "version": "3.11.5"
  }
 },
 "nbformat": 4,
 "nbformat_minor": 2
}
