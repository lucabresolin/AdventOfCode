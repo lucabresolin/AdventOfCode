{
 "cells": [
  {
   "cell_type": "code",
   "execution_count": 15,
   "metadata": {},
   "outputs": [
    {
     "name": "stdout",
     "output_type": "stream",
     "text": [
      "3035\n"
     ]
    }
   ],
   "source": [
    "RED_MAX = 12\n",
    "GREEN_MAX = 13\n",
    "BLUE_MAX = 14\n",
    "\n",
    "def id_ifnot_overflow(line):\n",
    "    if line.count(':')!=1:\n",
    "        print(\"erreure\")\n",
    "        return -1\n",
    "\n",
    "    meta, main = line.split(':')\n",
    "    id = int(meta.split(' ')[1])\n",
    "\n",
    "    main = main.replace(\";\",\",\").strip().split(',')\n",
    "    for elem in main:\n",
    "        elem = elem.strip()\n",
    "        if elem.count(' ')!=1:\n",
    "            print(elem)\n",
    "            print(main)\n",
    "            print(\"erreur\")\n",
    "        compte, color = elem.split(' ')\n",
    "        if color==\"blue\" and int(compte)>BLUE_MAX:\n",
    "            return 0\n",
    "        if color==\"green\" and int(compte)>GREEN_MAX:\n",
    "            return 0\n",
    "        if color==\"red\" and int(compte)>RED_MAX:\n",
    "            return 0\n",
    "    \n",
    "    return id\n",
    "\n",
    "\n",
    "with open(\"input.txt\",'r') as f:\n",
    "    lignes = f.readlines()                                                              \n",
    "    print(sum([id_ifnot_overflow(line) for line in lignes]))\n"
   ]
  },
  {
   "cell_type": "markdown",
   "metadata": {},
   "source": [
    "# PART 2"
   ]
  },
  {
   "cell_type": "code",
   "execution_count": 16,
   "metadata": {},
   "outputs": [
    {
     "name": "stdout",
     "output_type": "stream",
     "text": [
      "66027\n"
     ]
    }
   ],
   "source": [
    "def get_max_and_multiply(line):\n",
    "    if line.count(':')!=1:\n",
    "        print(\"erreure\")\n",
    "        return -1\n",
    "\n",
    "    meta, main = line.split(':')\n",
    "    id = int(meta.split(' ')[1])\n",
    "\n",
    "    blue_max = 0\n",
    "    green_max = 0\n",
    "    red_max = 0\n",
    "\n",
    "    main = main.replace(\";\",\",\").strip().split(',')\n",
    "    for elem in main:\n",
    "        elem = elem.strip()\n",
    "        if elem.count(' ')!=1:\n",
    "            print(elem)\n",
    "            print(main)\n",
    "            print(\"erreur\")\n",
    "        compte, color = elem.split(' ')\n",
    "        if color==\"blue\" and int(compte)>blue_max:\n",
    "            blue_max = int(compte)\n",
    "        if color==\"green\" and int(compte)>green_max:\n",
    "            green_max = int(compte)\n",
    "        if color==\"red\" and int(compte)>red_max:\n",
    "            red_max = int(compte)\n",
    "    \n",
    "    return blue_max*red_max*green_max\n",
    "\n",
    "\n",
    "with open(\"input.txt\",'r') as f:\n",
    "    lignes = f.readlines()                                                              \n",
    "    print(sum([get_max_and_multiply(line) for line in lignes]))\n"
   ]
  }
 ],
 "metadata": {
  "kernelspec": {
   "display_name": "Python 3",
   "language": "python",
   "name": "python3"
  },
  "language_info": {
   "codemirror_mode": {
    "name": "ipython",
    "version": 3
   },
   "file_extension": ".py",
   "mimetype": "text/x-python",
   "name": "python",
   "nbconvert_exporter": "python",
   "pygments_lexer": "ipython3",
   "version": "3.11.6"
  }
 },
 "nbformat": 4,
 "nbformat_minor": 2
}
