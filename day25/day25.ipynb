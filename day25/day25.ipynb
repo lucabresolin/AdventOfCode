{
 "cells": [
  {
   "cell_type": "code",
   "execution_count": 6,
   "metadata": {},
   "outputs": [
    {
     "data": {
      "text/plain": [
       "{'jqt': ['rhn', 'xhk', 'nvd'],\n",
       " 'rsh': ['frs', 'pzl', 'lsr'],\n",
       " 'xhk': ['hfx'],\n",
       " 'cmg': ['qnr', 'nvd', 'lhk', 'bvb'],\n",
       " 'rhn': ['xhk', 'bvb', 'hfx'],\n",
       " 'bvb': ['xhk', 'hfx'],\n",
       " 'pzl': ['lsr', 'hfx', 'nvd'],\n",
       " 'qnr': ['nvd'],\n",
       " 'ntq': ['jqt', 'hfx', 'bvb', 'xhk'],\n",
       " 'nvd': ['lhk'],\n",
       " 'lsr': ['lhk'],\n",
       " 'rzs': ['qnr', 'cmg', 'lsr', 'rsh'],\n",
       " 'frs': ['qnr', 'lhk', 'lsr']}"
      ]
     },
     "execution_count": 6,
     "metadata": {},
     "output_type": "execute_result"
    }
   ],
   "source": [
    "with open('test.txt') as f:\n",
    "    lines = [line.strip('\\n').split(': ') for line in f.readlines()]\n",
    "\n",
    "adjacency = {}\n",
    "for line in lines:\n",
    "    node, neigh = line\n",
    "    neigh = neigh.split()\n",
    "    adjacency[node] = neigh\n",
    "adjacency"
   ]
  },
  {
   "cell_type": "code",
   "execution_count": null,
   "metadata": {},
   "outputs": [],
   "source": [
    "def bfs(current_node, current_distance):\n",
    "    return 0"
   ]
  }
 ],
 "metadata": {
  "kernelspec": {
   "display_name": "venv",
   "language": "python",
   "name": "python3"
  },
  "language_info": {
   "codemirror_mode": {
    "name": "ipython",
    "version": 3
   },
   "file_extension": ".py",
   "mimetype": "text/x-python",
   "name": "python",
   "nbconvert_exporter": "python",
   "pygments_lexer": "ipython3",
   "version": "3.12.0"
  }
 },
 "nbformat": 4,
 "nbformat_minor": 2
}
