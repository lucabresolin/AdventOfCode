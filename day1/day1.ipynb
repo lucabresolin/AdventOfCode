{
 "cells": [
  {
   "cell_type": "code",
   "execution_count": 1,
   "metadata": {},
   "outputs": [
    {
     "name": "stdout",
     "output_type": "stream",
     "text": [
      "52834\n"
     ]
    }
   ],
   "source": [
    "# PART 1\n",
    "def get_number(txt):\n",
    "    first_number = None\n",
    "    last_number = None\n",
    "\n",
    "    for char in txt:\n",
    "        if char.isnumeric():\n",
    "            if first_number is None:\n",
    "                first_number = int(char)\n",
    "            last_number = int(char)\n",
    "\n",
    "    return first_number*10 + last_number\n",
    "\n",
    "## PART 2\n",
    "def convert_number(txt: str):\n",
    "    dicto = {\n",
    "        \"one\":\"o1ne\",\n",
    "        \"two\":\"t2wo\",\n",
    "        \"three\":\"t3e\",\n",
    "        \"four\":\"f4r\",\n",
    "        \"five\":\"f5e\",\n",
    "        \"six\":\"s6x\",\n",
    "        \"seven\":\"s7n\",\n",
    "        \"eight\":\"e8t\",\n",
    "        \"nine\":\"n9e\"\n",
    "    }\n",
    "\n",
    "    for key, value in dicto.items():\n",
    "        txt = txt.replace(key, value)\n",
    "\n",
    "    return txt\n",
    "\n",
    "with open(\"input.txt\", 'r') as f :\n",
    "    lines = f.readlines()\n",
    "    sortie = [(get_number(convert_number(line))) for line in lines]\n",
    "    print(sum(sortie))"
   ]
  },
  {
   "cell_type": "code",
   "execution_count": 2,
   "metadata": {},
   "outputs": [
    {
     "data": {
      "text/plain": [
       "24"
      ]
     },
     "execution_count": 2,
     "metadata": {},
     "output_type": "execute_result"
    }
   ],
   "source": [
    "get_number(convert_number(\"xtwone3four\"))"
   ]
  }
 ],
 "metadata": {
  "kernelspec": {
   "display_name": "Python 3",
   "language": "python",
   "name": "python3"
  },
  "language_info": {
   "codemirror_mode": {
    "name": "ipython",
    "version": 3
   },
   "file_extension": ".py",
   "mimetype": "text/x-python",
   "name": "python",
   "nbconvert_exporter": "python",
   "pygments_lexer": "ipython3",
   "version": "3.11.5"
  }
 },
 "nbformat": 4,
 "nbformat_minor": 2
}
