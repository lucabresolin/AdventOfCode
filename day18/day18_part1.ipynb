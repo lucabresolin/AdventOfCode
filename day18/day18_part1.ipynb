{
 "cells": [
  {
   "cell_type": "code",
   "execution_count": 65,
   "metadata": {},
   "outputs": [
    {
     "data": {
      "text/plain": [
       "[['R', '6'],\n",
       " ['D', '5'],\n",
       " ['L', '2'],\n",
       " ['D', '2'],\n",
       " ['R', '2'],\n",
       " ['D', '2'],\n",
       " ['L', '5'],\n",
       " ['U', '2'],\n",
       " ['L', '1'],\n",
       " ['U', '2'],\n",
       " ['R', '2'],\n",
       " ['U', '3'],\n",
       " ['L', '2'],\n",
       " ['U', '2']]"
      ]
     },
     "execution_count": 65,
     "metadata": {},
     "output_type": "execute_result"
    }
   ],
   "source": [
    "with open(\"test.txt\") as file:\n",
    "    instructions = [line.split()[:2] for line in file.readlines()]\n",
    "instructions"
   ]
  },
  {
   "cell_type": "code",
   "execution_count": 66,
   "metadata": {},
   "outputs": [],
   "source": [
    "dir_map = {\n",
    "    'R':(0, 1),\n",
    "    'L':(0, -1),\n",
    "    'D':(1, 0),\n",
    "    'U':(-1, 0)\n",
    "}\n",
    "\n",
    "def get_edge_tile(instr):\n",
    "    x, y = 0, 0\n",
    "    edge_tiles = [(0, 0)]\n",
    "    max_width = 0\n",
    "    max_height = 0\n",
    "    min_width = 0\n",
    "    min_height = 0\n",
    "\n",
    "    for dir, length in instr:\n",
    "        u, v = dir_map[dir]\n",
    "        length = int(length)\n",
    "        for k in range(length):\n",
    "            x, y = x+u, y+v\n",
    "            edge_tiles.append((x,y))\n",
    "            if x>max_height:\n",
    "                max_height = x\n",
    "            if y>max_width:\n",
    "                max_width = y\n",
    "            if y<min_width:\n",
    "                min_width = y\n",
    "            if x<min_height:\n",
    "                min_height = x\n",
    "        \n",
    "    return edge_tiles, max_width, min_width, max_height, min_height\n",
    "\n",
    "tiled, w_max, w_min, h_max, h_min = get_edge_tile(instructions)\n",
    "start_coord = (-h_min, -w_min)\n",
    "H = h_max+1-h_min\n",
    "W = w_max+1-w_min\n",
    "\n",
    "tiled = [(x-h_min, y-w_min) for x, y in tiled]\n",
    "\n",
    "grid = []\n",
    "for x in range(H):\n",
    "    grid.append([])\n",
    "    for y in range(W):\n",
    "        if (x,y) in tiled:\n",
    "            grid[-1].append('#')\n",
    "        else:\n",
    "            grid[-1].append('.')\n"
   ]
  },
  {
   "cell_type": "code",
   "execution_count": 71,
   "metadata": {},
   "outputs": [
    {
     "data": {
      "text/plain": [
       "62"
      ]
     },
     "execution_count": 71,
     "metadata": {},
     "output_type": "execute_result"
    }
   ],
   "source": [
    "def all_borders():\n",
    "    upper_border = [(l,e) for e in range(W) for l in (0, H-1)]\n",
    "    lower_border = [(e, l) for e in range(H) for l in (0, W-1)]\n",
    "    return set(upper_border+lower_border)\n",
    "\n",
    "is_near_border = list(all_borders())\n",
    "extern_banger = []\n",
    "\n",
    "def get_all_valid_neighbord(x, y):\n",
    "    def inbound(x,y):\n",
    "        return x in range(H) and y in range(W)\n",
    "    r = []\n",
    "    for u,v in ((0,1),(1,0),(0,-1),(-1, 0)):\n",
    "        if inbound(x+u, y+v) and grid[x+u][y+v]=='.':\n",
    "            r.append((x+u, y+v))\n",
    "    return r\n",
    "\n",
    "for x, y in is_near_border:\n",
    "    if grid[x][y]=='.' and (x,y) not in extern_banger:\n",
    "        extern_banger.append((x,y))\n",
    "        neighbs = [neigb for neigb in get_all_valid_neighbord(x, y) if neigb not in extern_banger]\n",
    "        is_near_border += neighbs\n",
    "\n",
    "compte_inte=0\n",
    "for x in range(H):\n",
    "    for y in range(W):\n",
    "        if (x,y) not in extern_banger:\n",
    "            compte_inte+=1\n",
    "compte_inte"
   ]
  }
 ],
 "metadata": {
  "kernelspec": {
   "display_name": "venv",
   "language": "python",
   "name": "python3"
  },
  "language_info": {
   "codemirror_mode": {
    "name": "ipython",
    "version": 3
   },
   "file_extension": ".py",
   "mimetype": "text/x-python",
   "name": "python",
   "nbconvert_exporter": "python",
   "pygments_lexer": "ipython3",
   "version": "3.12.0"
  }
 },
 "nbformat": 4,
 "nbformat_minor": 2
}
