{
 "cells": [
  {
   "cell_type": "code",
   "execution_count": 44,
   "metadata": {},
   "outputs": [
    {
     "data": {
      "text/plain": [
       "['70c710',\n",
       " '0dc571',\n",
       " '5713f0',\n",
       " 'd2c081',\n",
       " '59c680',\n",
       " '411b91',\n",
       " '8ceee2',\n",
       " 'caa173',\n",
       " '1b58a2',\n",
       " 'caa171',\n",
       " '7807d2',\n",
       " 'a77fa3',\n",
       " '015232',\n",
       " '7a21e3']"
      ]
     },
     "execution_count": 44,
     "metadata": {},
     "output_type": "execute_result"
    }
   ],
   "source": [
    "with open(\"test.txt\") as file:\n",
    "    instructions = [line.split()[2].strip('()#') for line in file.readlines()]\n",
    "instructions"
   ]
  },
  {
   "cell_type": "code",
   "execution_count": 45,
   "metadata": {},
   "outputs": [
    {
     "data": {
      "text/plain": [
       "[(461937, 'R'),\n",
       " (56407, 'D'),\n",
       " (356671, 'R'),\n",
       " (863240, 'D'),\n",
       " (367720, 'R'),\n",
       " (266681, 'D'),\n",
       " (577262, 'L'),\n",
       " (829975, 'U'),\n",
       " (112010, 'L'),\n",
       " (829975, 'D'),\n",
       " (491645, 'L'),\n",
       " (686074, 'U'),\n",
       " (5411, 'L'),\n",
       " (500254, 'U')]"
      ]
     },
     "execution_count": 45,
     "metadata": {},
     "output_type": "execute_result"
    }
   ],
   "source": [
    "charhexmap = {'A':10, 'B':11, 'C':12, 'D':13, 'E':14, 'F':15}\n",
    "def get_hex_int(hex_char):\n",
    "    if hex_char.isnumeric():\n",
    "        return int(hex_char)\n",
    "    else:\n",
    "        return charhexmap[hex_char.upper()]\n",
    "\n",
    "def get_hex_number(hexstr):\n",
    "    nombor = 0\n",
    "    for idx,c in enumerate(hexstr[::-1]):\n",
    "        nombor += get_hex_int(c) * 16 ** idx\n",
    "    return nombor\n",
    "\n",
    "hexdirmap = {'0':'R', '1':'D', '2':'L', '3':'U'}\n",
    "\n",
    "def decode_instr(hex_code):\n",
    "    digit = get_hex_number(hex_code[:-1])\n",
    "    dir = hexdirmap[hex_code[-1]]\n",
    "    return digit, dir\n",
    "\n",
    "instructions = [decode_instr(instr) for instr in instructions]\n",
    "instructions"
   ]
  },
  {
   "cell_type": "code",
   "execution_count": 46,
   "metadata": {},
   "outputs": [],
   "source": [
    "dir_map = {\n",
    "    'R':(0, 1),\n",
    "    'L':(0, -1),\n",
    "    'D':(1, 0),\n",
    "    'U':(-1, 0)\n",
    "}\n",
    "coord_list = [(0, 0)]\n",
    "n = 0\n",
    "for instruction in instructions:\n",
    "    path,dir = instruction\n",
    "    u, v = dir_map[dir]\n",
    "    lx, ly = coord_list[-1]\n",
    "    coord_list.append((lx + u*path, ly + v*path))\n",
    "    n+=path\n",
    "\n",
    "coord_list = coord_list[:-1]"
   ]
  },
  {
   "cell_type": "code",
   "execution_count": 47,
   "metadata": {},
   "outputs": [
    {
     "data": {
      "text/plain": [
       "952408144115.0"
      ]
     },
     "execution_count": 47,
     "metadata": {},
     "output_type": "execute_result"
    }
   ],
   "source": [
    "shoelace = abs(sum([coord_list[i][0] * (coord_list[(i+1)%len(coord_list)][1] - coord_list[i-1][1]) for i in range(len(coord_list))]))/2\n",
    "perimeter = n\n",
    "\n",
    "interior = shoelace - (perimeter/2) + 1\n",
    "\n",
    "finalanswer = interior + perimeter\n",
    "finalanswer"
   ]
  }
 ],
 "metadata": {
  "kernelspec": {
   "display_name": "venv",
   "language": "python",
   "name": "python3"
  },
  "language_info": {
   "codemirror_mode": {
    "name": "ipython",
    "version": 3
   },
   "file_extension": ".py",
   "mimetype": "text/x-python",
   "name": "python",
   "nbconvert_exporter": "python",
   "pygments_lexer": "ipython3",
   "version": "3.12.0"
  }
 },
 "nbformat": 4,
 "nbformat_minor": 2
}
