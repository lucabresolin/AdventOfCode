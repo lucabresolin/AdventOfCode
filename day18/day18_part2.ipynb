{
 "cells": [
  {
   "cell_type": "code",
   "execution_count": 1,
   "metadata": {},
   "outputs": [
    {
     "data": {
      "text/plain": [
       "['70c710',\n",
       " '0dc571',\n",
       " '5713f0',\n",
       " 'd2c081',\n",
       " '59c680',\n",
       " '411b91',\n",
       " '8ceee2',\n",
       " 'caa173',\n",
       " '1b58a2',\n",
       " 'caa171',\n",
       " '7807d2',\n",
       " 'a77fa3',\n",
       " '015232',\n",
       " '7a21e3']"
      ]
     },
     "execution_count": 1,
     "metadata": {},
     "output_type": "execute_result"
    }
   ],
   "source": [
    "with open(\"test.txt\") as file:\n",
    "    instructions = [line.split()[2].strip('()#') for line in file.readlines()]\n",
    "instructions"
   ]
  },
  {
   "cell_type": "code",
   "execution_count": 2,
   "metadata": {},
   "outputs": [
    {
     "data": {
      "text/plain": [
       "[(461937, 'R'),\n",
       " (56407, 'D'),\n",
       " (356671, 'R'),\n",
       " (863240, 'D'),\n",
       " (367720, 'R'),\n",
       " (266681, 'D'),\n",
       " (577262, 'L'),\n",
       " (829975, 'U'),\n",
       " (112010, 'L'),\n",
       " (829975, 'D'),\n",
       " (491645, 'L'),\n",
       " (686074, 'U'),\n",
       " (5411, 'L'),\n",
       " (500254, 'U')]"
      ]
     },
     "execution_count": 2,
     "metadata": {},
     "output_type": "execute_result"
    }
   ],
   "source": [
    "charhexmap = {'A':10, 'B':11, 'C':12, 'D':13, 'E':14, 'F':15}\n",
    "def get_hex_int(hex_char):\n",
    "    if hex_char.isnumeric():\n",
    "        return int(hex_char)\n",
    "    else:\n",
    "        return charhexmap[hex_char.upper()]\n",
    "\n",
    "def get_hex_number(hexstr):\n",
    "    nombor = 0\n",
    "    for idx,c in enumerate(hexstr[::-1]):\n",
    "        nombor += get_hex_int(c) * 16 ** idx\n",
    "    return nombor\n",
    "\n",
    "hexdirmap = {'0':'R', '1':'D', '2':'L', '3':'U'}\n",
    "\n",
    "def decode_instr(hex_code):\n",
    "    digit = get_hex_number(hex_code[:-1])\n",
    "    dir = hexdirmap[hex_code[-1]]\n",
    "    return digit, dir\n",
    "\n",
    "instructions = [decode_instr(instr) for instr in instructions]\n",
    "instructions"
   ]
  },
  {
   "cell_type": "code",
   "execution_count": 3,
   "metadata": {},
   "outputs": [
    {
     "data": {
      "text/plain": [
       "[(range(0, 1), range(0, 461938)),\n",
       " (range(0, 56408), range(461937, 461938)),\n",
       " (range(56407, 56408), range(461937, 818609)),\n",
       " (range(56407, 919648), range(818608, 818609)),\n",
       " (range(919647, 919648), range(818608, 1186329)),\n",
       " (range(919647, 1186329), range(1186328, 1186329)),\n",
       " (range(1186328, 1186329), range(1186328, 609067)),\n",
       " (range(1186328, 356354), range(609066, 609067)),\n",
       " (range(356353, 356354), range(609066, 497057)),\n",
       " (range(356353, 1186329), range(497056, 497057)),\n",
       " (range(1186328, 1186329), range(497056, 5412)),\n",
       " (range(1186328, 500255), range(5411, 5412)),\n",
       " (range(500254, 500255), range(5411, 1)),\n",
       " (range(500254, 1), range(0, 1))]"
      ]
     },
     "execution_count": 3,
     "metadata": {},
     "output_type": "execute_result"
    }
   ],
   "source": [
    "dir_map = {\n",
    "    'R':(0, 1),\n",
    "    'L':(0, -1),\n",
    "    'D':(1, 0),\n",
    "    'U':(-1, 0)\n",
    "}\n",
    "\n",
    "def get_edge_tile(instr):\n",
    "    x, y = 0, 0\n",
    "    edge_tiles = []\n",
    "    minx = 0\n",
    "    miny=0\n",
    "    maxx = 0\n",
    "    maxy=0\n",
    "    for length, dir in instr:\n",
    "        u, v = dir_map[dir]\n",
    "        nx, ny = x+(u*length), y+(v*length)\n",
    "        edge_tiles.append((range(x, nx+1), range(y, ny+1)))\n",
    "\n",
    "        x, y = nx, ny\n",
    "        minx = minx if minx<x else x\n",
    "        miny = miny if miny<y else y\n",
    "        maxx = maxx if maxx>x else x\n",
    "        maxy = maxy if maxy>y else y\n",
    "\n",
    "    return edge_tiles, minx, miny, maxx, maxy\n",
    "\n",
    "tiled, xmin, ymin, xmax, ymax = get_edge_tile(instructions)\n",
    "W = ymax+1\n",
    "H = xmax+1\n",
    "tiled = [(range(x.start-xmin, x.stop-xmin), range(y.start-ymin, y.stop-ymin)) for x, y in tiled]\n",
    "tiled"
   ]
  },
  {
   "cell_type": "code",
   "execution_count": 4,
   "metadata": {},
   "outputs": [],
   "source": [
    "def is_intiled(coord):\n",
    "    a, b = coord\n",
    "    for xran, yran in tiled:\n",
    "        if a in xran and b in yran:\n",
    "            return True\n",
    "        return False\n",
    "    \n",
    "def all_borders():\n",
    "    upper_border = [(l,e) for e in range(W) for l in (0, H-1)]\n",
    "    lower_border = [(e, l) for e in range(H) for l in (0, W-1)]\n",
    "    return [(a,b) for a,b in set(upper_border+lower_border) if not is_intiled((a,b))]\n",
    "\n",
    "def get_all_valid_neighbord(x, y):\n",
    "    def inbound(x,y):\n",
    "        return x in range(H) and y in range(W)\n",
    "    r = []\n",
    "    for u,v in ((0,1),(1,0),(0,-1),(-1, 0)):\n",
    "        nx = x+u\n",
    "        ny = y+v\n",
    "        if inbound(nx, ny) and not is_intiled((nx, ny)):\n",
    "            r.append((nx, ny))\n",
    "    return r\n",
    "\n",
    "\n",
    "is_near_border = list(all_borders())\n"
   ]
  },
  {
   "cell_type": "code",
   "execution_count": 5,
   "metadata": {},
   "outputs": [
    {
     "data": {
      "text/plain": [
       "4283374"
      ]
     },
     "execution_count": 5,
     "metadata": {},
     "output_type": "execute_result"
    }
   ],
   "source": [
    "len(is_near_border)"
   ]
  },
  {
   "cell_type": "code",
   "execution_count": 6,
   "metadata": {},
   "outputs": [
    {
     "name": "stderr",
     "output_type": "stream",
     "text": [
      "64191660it [02:13, 317178.15it/s]                            "
     ]
    }
   ],
   "source": [
    "from tqdm import tqdm\n",
    "extern_banger = set()\n",
    "for x, y in tqdm(is_near_border):\n",
    "    if (x,y) not in extern_banger:\n",
    "        extern_banger.add((x,y))\n",
    "        neighbs = [neigb for neigb in get_all_valid_neighbord(x, y) if neigb not in extern_banger]\n",
    "        is_near_border += neighbs\n",
    "\n",
    "compte_inte=0\n",
    "for x in range(H):\n",
    "    for y in range(W):\n",
    "        if (x,y) not in extern_banger:\n",
    "            compte_inte+=1\n",
    "compte_inte"
   ]
  }
 ],
 "metadata": {
  "kernelspec": {
   "display_name": "venv",
   "language": "python",
   "name": "python3"
  },
  "language_info": {
   "codemirror_mode": {
    "name": "ipython",
    "version": 3
   },
   "file_extension": ".py",
   "mimetype": "text/x-python",
   "name": "python",
   "nbconvert_exporter": "python",
   "pygments_lexer": "ipython3",
   "version": "3.12.0"
  }
 },
 "nbformat": 4,
 "nbformat_minor": 2
}
