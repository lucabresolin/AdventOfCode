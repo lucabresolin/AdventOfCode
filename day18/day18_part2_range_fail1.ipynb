{
 "cells": [
  {
   "cell_type": "code",
   "execution_count": 26,
   "metadata": {},
   "outputs": [
    {
     "data": {
      "text/plain": [
       "['70c710',\n",
       " '0dc571',\n",
       " '5713f0',\n",
       " 'd2c081',\n",
       " '59c680',\n",
       " '411b91',\n",
       " '8ceee2',\n",
       " 'caa173',\n",
       " '1b58a2',\n",
       " 'caa171',\n",
       " '7807d2',\n",
       " 'a77fa3',\n",
       " '015232',\n",
       " '7a21e3']"
      ]
     },
     "execution_count": 26,
     "metadata": {},
     "output_type": "execute_result"
    }
   ],
   "source": [
    "with open(\"test.txt\") as file:\n",
    "    instructions = [line.split()[2].strip('()#') for line in file.readlines()]\n",
    "instructions"
   ]
  },
  {
   "cell_type": "code",
   "execution_count": 27,
   "metadata": {},
   "outputs": [
    {
     "data": {
      "text/plain": [
       "[(461937, 'R'),\n",
       " (56407, 'D'),\n",
       " (356671, 'R'),\n",
       " (863240, 'D'),\n",
       " (367720, 'R'),\n",
       " (266681, 'D'),\n",
       " (577262, 'L'),\n",
       " (829975, 'U'),\n",
       " (112010, 'L'),\n",
       " (829975, 'D'),\n",
       " (491645, 'L'),\n",
       " (686074, 'U'),\n",
       " (5411, 'L'),\n",
       " (500254, 'U')]"
      ]
     },
     "execution_count": 27,
     "metadata": {},
     "output_type": "execute_result"
    }
   ],
   "source": [
    "charhexmap = {'A':10, 'B':11, 'C':12, 'D':13, 'E':14, 'F':15}\n",
    "def get_hex_int(hex_char):\n",
    "    if hex_char.isnumeric():\n",
    "        return int(hex_char)\n",
    "    else:\n",
    "        return charhexmap[hex_char.upper()]\n",
    "\n",
    "def get_hex_number(hexstr):\n",
    "    nombor = 0\n",
    "    for idx,c in enumerate(hexstr[::-1]):\n",
    "        nombor += get_hex_int(c) * 16 ** idx\n",
    "    return nombor\n",
    "\n",
    "hexdirmap = {'0':'R', '1':'D', '2':'L', '3':'U'}\n",
    "\n",
    "def decode_instr(hex_code):\n",
    "    digit = get_hex_number(hex_code[:-1])\n",
    "    dir = hexdirmap[hex_code[-1]]\n",
    "    return digit, dir\n",
    "\n",
    "instructions = [decode_instr(instr) for instr in instructions]\n",
    "instructions"
   ]
  },
  {
   "cell_type": "code",
   "execution_count": 28,
   "metadata": {},
   "outputs": [
    {
     "data": {
      "text/plain": [
       "[(range(0, 1), range(0, 461938)),\n",
       " (range(0, 56408), range(461937, 461938)),\n",
       " (range(56407, 56408), range(461937, 818609)),\n",
       " (range(56407, 919648), range(818608, 818609)),\n",
       " (range(919647, 919648), range(818608, 1186329)),\n",
       " (range(919647, 1186329), range(1186328, 1186329)),\n",
       " (range(1186328, 1186329), range(609066, 1186329)),\n",
       " (range(356353, 1186329), range(609066, 609067)),\n",
       " (range(356353, 356354), range(497056, 609067)),\n",
       " (range(356353, 1186329), range(497056, 497057)),\n",
       " (range(1186328, 1186329), range(5411, 497057)),\n",
       " (range(500254, 1186329), range(5411, 5412)),\n",
       " (range(500254, 500255), range(0, 5412)),\n",
       " (range(0, 500255), range(0, 1))]"
      ]
     },
     "execution_count": 28,
     "metadata": {},
     "output_type": "execute_result"
    }
   ],
   "source": [
    "dir_map = {\n",
    "    'R':(0, 1),\n",
    "    'L':(0, -1),\n",
    "    'D':(1, 0),\n",
    "    'U':(-1, 0)\n",
    "}\n",
    "\n",
    "def ordered_range(x, y):\n",
    "    if x < y:\n",
    "        return range(x, y+1)\n",
    "    else:\n",
    "        return range(y, x+1)\n",
    "\n",
    "def get_edge_tile(instr):\n",
    "    x, y = 0, 0\n",
    "    edge_tiles = []\n",
    "    minx = 0\n",
    "    miny=0\n",
    "    maxx = 0\n",
    "    maxy=0\n",
    "    for length, dir in instr:\n",
    "        u, v = dir_map[dir]\n",
    "        nx, ny = x+(u*length), y+(v*length)\n",
    "        edge_tiles.append((ordered_range(x, nx), ordered_range(y, ny)))\n",
    "\n",
    "        x, y = nx, ny\n",
    "        minx = minx if minx<x else x\n",
    "        miny = miny if miny<y else y\n",
    "        maxx = maxx if maxx>x else x\n",
    "        maxy = maxy if maxy>y else y\n",
    "\n",
    "    return edge_tiles, minx, miny, maxx, maxy\n",
    "\n",
    "tiled, xmin, ymin, xmax, ymax = get_edge_tile(instructions)\n",
    "W = ymax+1\n",
    "H = xmax+1\n",
    "tiled = [(range(x.start-xmin, x.stop-xmin), range(y.start-ymin, y.stop-ymin)) for x, y in tiled]\n",
    "tiled"
   ]
  },
  {
   "cell_type": "code",
   "execution_count": 29,
   "metadata": {},
   "outputs": [],
   "source": [
    "def get_line_length(row_num):\n",
    "    edges = []\n",
    "    for xran, yran in tiled[::-1]:\n",
    "        if row_num in xran:\n",
    "            if len(yran)==1:\n",
    "                edges.append(yran.start)\n",
    "            else:\n",
    "                edges += [yran.start, yran.stop-1]\n",
    "    return edges\n",
    "\n",
    "def calculate_tile(pere ,ro):\n",
    "    som = 0\n",
    "    if len(pere) not in [2,4]:\n",
    "        print(pere, ro)\n",
    "    for idx in range(0, len(pere)-1, 2):\n",
    "        som += 1 + pere[idx+1] - pere[idx] \n",
    "    return som\n",
    "\n"
   ]
  },
  {
   "cell_type": "code",
   "execution_count": 30,
   "metadata": {},
   "outputs": [
    {
     "data": {
      "text/plain": [
       "701187"
      ]
     },
     "execution_count": 30,
     "metadata": {},
     "output_type": "execute_result"
    }
   ],
   "source": [
    "497056-5411 + 818608-609066"
   ]
  },
  {
   "cell_type": "code",
   "execution_count": 31,
   "metadata": {},
   "outputs": [
    {
     "data": {
      "text/plain": [
       "[5411, 497056, 609066, 818608]"
      ]
     },
     "execution_count": 31,
     "metadata": {},
     "output_type": "execute_result"
    }
   ],
   "source": [
    "get_line_length(898989)"
   ]
  },
  {
   "cell_type": "code",
   "execution_count": 32,
   "metadata": {},
   "outputs": [],
   "source": [
    "# calculate_tile(get_line_length(897989))"
   ]
  },
  {
   "cell_type": "code",
   "execution_count": 33,
   "metadata": {},
   "outputs": [
    {
     "name": "stdout",
     "output_type": "stream",
     "text": [
      "[0, 818608, 461937, 818608, 461937] 56407\n",
      "[0, 497056, 497056, 609066, 609066, 818608] 356353\n",
      "[0, 0, 5411, 5411, 497056, 609066, 818608] 500254\n",
      "[5411, 497056, 609066, 1186328, 818608, 1186328, 818608] 919647\n",
      "[5411, 5411, 497056, 497056, 609066, 609066, 1186328, 1186328] 1186328\n"
     ]
    },
    {
     "data": {
      "text/plain": [
       "952407666956"
      ]
     },
     "execution_count": 33,
     "metadata": {},
     "output_type": "execute_result"
    }
   ],
   "source": [
    "som = 0\n",
    "for rownum in range(H):\n",
    "    som += calculate_tile(get_line_length(rownum), rownum)\n",
    "som"
   ]
  },
  {
   "cell_type": "code",
   "execution_count": 34,
   "metadata": {},
   "outputs": [
    {
     "data": {
      "text/plain": [
       "-477159"
      ]
     },
     "execution_count": 34,
     "metadata": {},
     "output_type": "execute_result"
    }
   ],
   "source": [
    "som -952408144115"
   ]
  }
 ],
 "metadata": {
  "kernelspec": {
   "display_name": "venv",
   "language": "python",
   "name": "python3"
  },
  "language_info": {
   "codemirror_mode": {
    "name": "ipython",
    "version": 3
   },
   "file_extension": ".py",
   "mimetype": "text/x-python",
   "name": "python",
   "nbconvert_exporter": "python",
   "pygments_lexer": "ipython3",
   "version": "3.12.0"
  }
 },
 "nbformat": 4,
 "nbformat_minor": 2
}
