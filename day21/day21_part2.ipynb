{
 "cells": [
  {
   "cell_type": "code",
   "execution_count": 41,
   "metadata": {},
   "outputs": [
    {
     "data": {
      "text/plain": [
       "(['...........',\n",
       "  '.....###.#.',\n",
       "  '.###.##..#.',\n",
       "  '..#.#...#..',\n",
       "  '....#.#....',\n",
       "  '.##...####.',\n",
       "  '.##..#...#.',\n",
       "  '.......##..',\n",
       "  '.##.#.####.',\n",
       "  '.##..##.##.',\n",
       "  '...........'],\n",
       " (5, 5))"
      ]
     },
     "execution_count": 41,
     "metadata": {},
     "output_type": "execute_result"
    }
   ],
   "source": [
    "with open(\"test.txt\") as f:\n",
    "    lines = [line.strip('\\n') for line in f.readlines()]\n",
    "\n",
    "for idx_l, line in enumerate(lines):\n",
    "    for idx_c, char in enumerate(line):\n",
    "        if char == 'S':\n",
    "            starting_point = (idx_l, idx_c)\n",
    "            lines[idx_l] = line.replace('S','.')\n",
    "\n",
    "lines, starting_point"
   ]
  },
  {
   "cell_type": "code",
   "execution_count": 42,
   "metadata": {},
   "outputs": [
    {
     "data": {
      "text/plain": [
       "62"
      ]
     },
     "execution_count": 42,
     "metadata": {},
     "output_type": "execute_result"
    }
   ],
   "source": [
    "current_set = {starting_point : 1}\n",
    "\n",
    "def inbound(a,b):\n",
    "    return a in range(0, len(lines)) and b in range(0, len(lines[0]))\n",
    "\n",
    "next_set = dict()\n",
    "n, m = len(lines), len(lines[0])\n",
    "\n",
    "for i in range(10):\n",
    "    for coord, num in current_set.items():\n",
    "        x, y = coord\n",
    "        next_points = [((x+a)%n, (y+b)%m, 0 if inbound(x+a, y+b) else 1) for a,b in ((1,0),(-1,0), (0,1),(0,-1)) if lines[(x+a)%n][(y+b)%m]=='.']\n",
    "        for point in next_points:\n",
    "            posx, posy, nim = point\n",
    "            if (posx, posy) in next_set:\n",
    "                next_set[(posx, posy)] += nim\n",
    "            else:\n",
    "                next_set[(posx, posy)] = 1\n",
    "        \n",
    "    current_set = next_set.copy()\n",
    "    next_set = dict()\n",
    "\n",
    "sum(current_set.values())"
   ]
  },
  {
   "cell_type": "code",
   "execution_count": 43,
   "metadata": {},
   "outputs": [
    {
     "data": {
      "text/plain": [
       "{((5, 5), 1)}"
      ]
     },
     "execution_count": 43,
     "metadata": {},
     "output_type": "execute_result"
    }
   ],
   "source": [
    "current_set = set([(starting_point, 1)])\n",
    "current_set"
   ]
  }
 ],
 "metadata": {
  "kernelspec": {
   "display_name": "venv",
   "language": "python",
   "name": "python3"
  },
  "language_info": {
   "codemirror_mode": {
    "name": "ipython",
    "version": 3
   },
   "file_extension": ".py",
   "mimetype": "text/x-python",
   "name": "python",
   "nbconvert_exporter": "python",
   "pygments_lexer": "ipython3",
   "version": "3.12.0"
  }
 },
 "nbformat": 4,
 "nbformat_minor": 2
}
