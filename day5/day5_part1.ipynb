{
 "cells": [
  {
   "cell_type": "code",
   "execution_count": 1,
   "metadata": {},
   "outputs": [],
   "source": [
    "with open(\"test.txt\", 'r') as f :\n",
    "    file_lines = f.readlines()\n",
    "\n",
    "file_lines\n",
    "\n",
    "def sedd_getter(seed_line):\n",
    "    return [int(line) for line in seed_line.split(':')[1].replace(\"  \",\" \").replace(\"\\n\",\"\").split(' ') if line!= '']\n",
    "\n",
    "def process_map(idx, lines):\n",
    "    names = lines[idx].split()[0]\n",
    "    idx +=1\n",
    "    dico = {}\n",
    "    while idx<len(lines) and lines[idx]!='\\n':\n",
    "        current_line = lines[idx].replace('\\n','').strip().split()\n",
    "        dest_start, base_start, range_count = [int(numb) for numb in current_line]\n",
    "        print(current_line)\n",
    "        dico.update({(base_start,base_start+range_count-1) : dest_start - base_start})\n",
    "        idx+=1\n",
    "    \n",
    "    return dico, (idx+1)\n"
   ]
  },
  {
   "cell_type": "code",
   "execution_count": 2,
   "metadata": {},
   "outputs": [
    {
     "name": "stdout",
     "output_type": "stream",
     "text": [
      "[79, 14, 55, 13]\n",
      "['50', '98', '2']\n",
      "['52', '50', '48']\n",
      "['0', '15', '37']\n",
      "['37', '52', '2']\n",
      "['39', '0', '15']\n",
      "['49', '53', '8']\n",
      "['0', '11', '42']\n",
      "['42', '0', '7']\n",
      "['57', '7', '4']\n",
      "['88', '18', '7']\n",
      "['18', '25', '70']\n",
      "['45', '77', '23']\n",
      "['81', '45', '19']\n",
      "['68', '64', '13']\n",
      "['0', '69', '1']\n",
      "['1', '0', '69']\n",
      "['60', '56', '37']\n",
      "['56', '93', '4']\n"
     ]
    }
   ],
   "source": [
    "seeds = sedd_getter(file_lines[0])\n",
    "print(seeds)\n",
    "maps = file_lines[2:]\n",
    "dict_list = []\n",
    "x=0\n",
    "while x < len(maps):\n",
    "    current_dict, x = process_map(x, maps)\n",
    "    dict_list.append(current_dict)\n"
   ]
  },
  {
   "cell_type": "code",
   "execution_count": 4,
   "metadata": {},
   "outputs": [
    {
     "data": {
      "text/plain": [
       "35"
      ]
     },
     "execution_count": 4,
     "metadata": {},
     "output_type": "execute_result"
    }
   ],
   "source": [
    "def get_location(seed, list):\n",
    "    for dic in list:\n",
    "        found_range = False\n",
    "        for key,value in dic.items():\n",
    "            a,b = key\n",
    "            if seed>=a and seed<=b and not found_range:\n",
    "                seed = seed + value\n",
    "                found_range = True\n",
    "    return seed\n",
    "\n",
    "loc_list=[]\n",
    "for sed in seeds:\n",
    "    loc_list.append(get_location(sed, dict_list))\n",
    "min(loc_list)"
   ]
  }
 ],
 "metadata": {
  "kernelspec": {
   "display_name": "base",
   "language": "python",
   "name": "python3"
  },
  "language_info": {
   "codemirror_mode": {
    "name": "ipython",
    "version": 3
   },
   "file_extension": ".py",
   "mimetype": "text/x-python",
   "name": "python",
   "nbconvert_exporter": "python",
   "pygments_lexer": "ipython3",
   "version": "3.11.5"
  }
 },
 "nbformat": 4,
 "nbformat_minor": 2
}
